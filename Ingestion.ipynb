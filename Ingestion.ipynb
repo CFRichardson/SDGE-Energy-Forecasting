{
 "cells": [
  {
   "cell_type": "code",
   "execution_count": 134,
   "metadata": {},
   "outputs": [],
   "source": [
    "# Python Version:\n",
    "#!python --version\n",
    "\n",
    "# Pip:\n",
    "#!pip install --disable-pip-version-check -q pip --upgrade > /dev/null\n",
    "#!pip install --disable-pip-version-check -q wrapt --upgrade > /dev/null\n",
    "\n",
    "# AWS CLI:\n",
    "#!pip install --disable-pip-version-check -q awscli==1.18.216 boto3==1.16.56 botocore==1.19.56\n",
    "\n",
    "# AWS SageMaker:\n",
    "#!pip install --disable-pip-version-check -q sagemaker==2.29.0\n",
    "#!pip install --disable-pip-version-check -q smdebug==1.0.1\n",
    "#!pip install --disable-pip-version-check -q sagemaker-experiments==0.1.26\n",
    "\n",
    "# AWS Redshift:\n",
    "#!pip install --disable-pip-version-check -q SQLAlchemy==1.3.22\n",
    "#!pip install --disable-pip-version-check -q psycopg2-binary==2.9.1\n",
    "\n",
    "# Zip:\n",
    "#!conda install -y zip\n",
    "\n",
    "# Pip List:\n",
    "#!pip list"
   ]
  },
  {
   "cell_type": "code",
   "execution_count": 12,
   "metadata": {},
   "outputs": [
    {
     "name": "stdout",
     "output_type": "stream",
     "text": [
      "Role name: LabRole\n",
      "*************** [ERROR] SageMakerExecutionRole needs the AdministratorAccess policy attached. *****************\n",
      "*************** [ERROR] SageMakerExecutionRole needs the AdministratorAccess policy attached. *****************\n",
      "*************** [ERROR] SageMakerExecutionRole needs the AdministratorAccess policy attached. *****************\n",
      "*************** [ERROR] SageMakerExecutionRole needs the AdministratorAccess policy attached. *****************\n",
      "[OK]\n"
     ]
    }
   ],
   "source": [
    "# IAM Roles:\n",
    "\n",
    "import boto3\n",
    "import sagemaker\n",
    "import time\n",
    "from time import gmtime, strftime\n",
    "\n",
    "sagemaker_session = sagemaker.Session()\n",
    "role = sagemaker.get_execution_role()\n",
    "bucket = sagemaker_session.default_bucket()\n",
    "region = boto3.Session().region_name\n",
    "\n",
    "from botocore.config import Config\n",
    "\n",
    "config = Config(retries={\"max_attempts\": 10, \"mode\": \"adaptive\"})\n",
    "\n",
    "iam = boto3.client(\"iam\", config=config)\n",
    "\n",
    "# Getting Our Role Name of LabRole:\n",
    "role_name = role.split(\"/\")[-1]\n",
    "\n",
    "print(\"Role name: {}\".format(role_name))\n",
    "\n",
    "# Checking permissions of our role:\n",
    "admin = False\n",
    "post_policies = iam.list_attached_role_policies(RoleName=role_name)[\"AttachedPolicies\"]\n",
    "for post_policy in post_policies:\n",
    "    if post_policy[\"PolicyName\"] == \"AdministratorAccess\":\n",
    "        admin = True\n",
    "        setup_iam_roles_passed = True\n",
    "        print(\"[OK]\")\n",
    "        break\n",
    "    else:\n",
    "        print(\"*************** [ERROR] SageMakerExecutionRole needs the AdministratorAccess policy attached. *****************\")"
   ]
  },
  {
   "cell_type": "code",
   "execution_count": 13,
   "metadata": {},
   "outputs": [],
   "source": [
    "# Start with Creation of the S3 Bucket\n",
    "\n",
    "s3 = boto3.Session().client(service_name=\"s3\", region_name=region)"
   ]
  },
  {
   "cell_type": "code",
   "execution_count": 14,
   "metadata": {},
   "outputs": [],
   "source": [
    "setup_s3_bucket_passed = False"
   ]
  },
  {
   "cell_type": "code",
   "execution_count": 15,
   "metadata": {},
   "outputs": [
    {
     "name": "stdout",
     "output_type": "stream",
     "text": [
      "Default bucket: sagemaker-us-east-1-669765645205\n"
     ]
    }
   ],
   "source": [
    "print(\"Default bucket: {}\".format(bucket))"
   ]
  },
  {
   "cell_type": "code",
   "execution_count": 16,
   "metadata": {},
   "outputs": [
    {
     "name": "stdout",
     "output_type": "stream",
     "text": [
      "2022-03-02 23:59:17 sagemaker-studio-669765645205-0l5jebx5msd\n",
      "2022-03-03 00:39:00 sagemaker-us-east-1-669765645205\n"
     ]
    }
   ],
   "source": [
    "%%bash\n",
    "\n",
    "aws s3 ls s3://${bucket}/"
   ]
  },
  {
   "cell_type": "code",
   "execution_count": 17,
   "metadata": {},
   "outputs": [
    {
     "name": "stdout",
     "output_type": "stream",
     "text": [
      "{'ResponseMetadata': {'RequestId': 'KWVFX296ZTNFX03X', 'HostId': 'Y8ic4LmHMU1MyCqCxZVVQ99Ir0IrDggNGWyHp70c2lnqu3WNhcXFiyrlCG/TX6UvH6Di2QEAAw4=', 'HTTPStatusCode': 200, 'HTTPHeaders': {'x-amz-id-2': 'Y8ic4LmHMU1MyCqCxZVVQ99Ir0IrDggNGWyHp70c2lnqu3WNhcXFiyrlCG/TX6UvH6Di2QEAAw4=', 'x-amz-request-id': 'KWVFX296ZTNFX03X', 'date': 'Thu, 24 Mar 2022 01:08:44 GMT', 'x-amz-bucket-region': 'us-east-1', 'x-amz-access-point-alias': 'false', 'content-type': 'application/xml', 'server': 'AmazonS3'}, 'RetryAttempts': 0}}\n"
     ]
    }
   ],
   "source": [
    "from botocore.client import ClientError\n",
    "\n",
    "response = None\n",
    "\n",
    "try:\n",
    "    response = s3.head_bucket(Bucket=bucket)\n",
    "    print(response)\n",
    "    setup_s3_bucket_passed = True\n",
    "except ClientError as e:\n",
    "    print(\"[ERROR] Cannot find bucket {} in {} due to {}.\".format(bucket, response, e))"
   ]
  },
  {
   "cell_type": "code",
   "execution_count": 79,
   "metadata": {},
   "outputs": [],
   "source": [
    "#s3.list_objects(Bucket=bucket)"
   ]
  },
  {
   "cell_type": "code",
   "execution_count": 87,
   "metadata": {},
   "outputs": [
    {
     "data": {
      "text/html": [
       "<div>\n",
       "<style scoped>\n",
       "    .dataframe tbody tr th:only-of-type {\n",
       "        vertical-align: middle;\n",
       "    }\n",
       "\n",
       "    .dataframe tbody tr th {\n",
       "        vertical-align: top;\n",
       "    }\n",
       "\n",
       "    .dataframe thead th {\n",
       "        text-align: right;\n",
       "    }\n",
       "</style>\n",
       "<table border=\"1\" class=\"dataframe\">\n",
       "  <thead>\n",
       "    <tr style=\"text-align: right;\">\n",
       "      <th></th>\n",
       "      <th>Key</th>\n",
       "      <th>LastModified</th>\n",
       "      <th>ETag</th>\n",
       "      <th>Size</th>\n",
       "      <th>StorageClass</th>\n",
       "      <th>Owner</th>\n",
       "    </tr>\n",
       "  </thead>\n",
       "  <tbody>\n",
       "    <tr>\n",
       "      <th>0</th>\n",
       "      <td>Raw Data/SDGE/Electric/SDGE-ELEC-2012-Q1.csv</td>\n",
       "      <td>2022-03-23 23:28:57+00:00</td>\n",
       "      <td>\"0070e4176e266ce0618f23246cf009ea\"</td>\n",
       "      <td>45132</td>\n",
       "      <td>STANDARD</td>\n",
       "      <td>{'DisplayName': 'awslabsc0w3920716t1646245937'...</td>\n",
       "    </tr>\n",
       "    <tr>\n",
       "      <th>1</th>\n",
       "      <td>Raw Data/SDGE/Electric/SDGE-ELEC-2012-Q2.csv</td>\n",
       "      <td>2022-03-23 23:28:58+00:00</td>\n",
       "      <td>\"42fe5a7a241a495141c14ca125ccedef\"</td>\n",
       "      <td>46929</td>\n",
       "      <td>STANDARD</td>\n",
       "      <td>{'DisplayName': 'awslabsc0w3920716t1646245937'...</td>\n",
       "    </tr>\n",
       "    <tr>\n",
       "      <th>2</th>\n",
       "      <td>Raw Data/SDGE/Electric/SDGE-ELEC-2012-Q3.csv</td>\n",
       "      <td>2022-03-23 23:28:58+00:00</td>\n",
       "      <td>\"f5c3fa472acbad6784ba52378470090d\"</td>\n",
       "      <td>47229</td>\n",
       "      <td>STANDARD</td>\n",
       "      <td>{'DisplayName': 'awslabsc0w3920716t1646245937'...</td>\n",
       "    </tr>\n",
       "    <tr>\n",
       "      <th>3</th>\n",
       "      <td>Raw Data/SDGE/Electric/SDGE-ELEC-2012-Q4.csv</td>\n",
       "      <td>2022-03-23 23:28:59+00:00</td>\n",
       "      <td>\"2f4e38aa66cd2a55950432ef10687aa5\"</td>\n",
       "      <td>48962</td>\n",
       "      <td>STANDARD</td>\n",
       "      <td>{'DisplayName': 'awslabsc0w3920716t1646245937'...</td>\n",
       "    </tr>\n",
       "    <tr>\n",
       "      <th>4</th>\n",
       "      <td>Raw Data/SDGE/Electric/SDGE-ELEC-2013-Q1.csv</td>\n",
       "      <td>2022-03-23 23:28:59+00:00</td>\n",
       "      <td>\"b7fee21186a49daaa4c39e4bcee5ca38\"</td>\n",
       "      <td>47242</td>\n",
       "      <td>STANDARD</td>\n",
       "      <td>{'DisplayName': 'awslabsc0w3920716t1646245937'...</td>\n",
       "    </tr>\n",
       "  </tbody>\n",
       "</table>\n",
       "</div>"
      ],
      "text/plain": [
       "                                            Key              LastModified  \\\n",
       "0  Raw Data/SDGE/Electric/SDGE-ELEC-2012-Q1.csv 2022-03-23 23:28:57+00:00   \n",
       "1  Raw Data/SDGE/Electric/SDGE-ELEC-2012-Q2.csv 2022-03-23 23:28:58+00:00   \n",
       "2  Raw Data/SDGE/Electric/SDGE-ELEC-2012-Q3.csv 2022-03-23 23:28:58+00:00   \n",
       "3  Raw Data/SDGE/Electric/SDGE-ELEC-2012-Q4.csv 2022-03-23 23:28:59+00:00   \n",
       "4  Raw Data/SDGE/Electric/SDGE-ELEC-2013-Q1.csv 2022-03-23 23:28:59+00:00   \n",
       "\n",
       "                                 ETag   Size StorageClass  \\\n",
       "0  \"0070e4176e266ce0618f23246cf009ea\"  45132     STANDARD   \n",
       "1  \"42fe5a7a241a495141c14ca125ccedef\"  46929     STANDARD   \n",
       "2  \"f5c3fa472acbad6784ba52378470090d\"  47229     STANDARD   \n",
       "3  \"2f4e38aa66cd2a55950432ef10687aa5\"  48962     STANDARD   \n",
       "4  \"b7fee21186a49daaa4c39e4bcee5ca38\"  47242     STANDARD   \n",
       "\n",
       "                                               Owner  \n",
       "0  {'DisplayName': 'awslabsc0w3920716t1646245937'...  \n",
       "1  {'DisplayName': 'awslabsc0w3920716t1646245937'...  \n",
       "2  {'DisplayName': 'awslabsc0w3920716t1646245937'...  \n",
       "3  {'DisplayName': 'awslabsc0w3920716t1646245937'...  \n",
       "4  {'DisplayName': 'awslabsc0w3920716t1646245937'...  "
      ]
     },
     "execution_count": 87,
     "metadata": {},
     "output_type": "execute_result"
    }
   ],
   "source": [
    "s3_bucket = pd.DataFrame.from_dict(s3.list_objects(Bucket=bucket)['Contents'])\n",
    "s3_bucket.head()"
   ]
  },
  {
   "cell_type": "code",
   "execution_count": 85,
   "metadata": {},
   "outputs": [],
   "source": [
    "#list(dir(s3))[45:]"
   ]
  },
  {
   "cell_type": "code",
   "execution_count": 130,
   "metadata": {},
   "outputs": [],
   "source": [
    "path = '/root/ADS_508/Raw_Data'\n",
    "os.mkdir(path)\n",
    "os.chdir(path)"
   ]
  },
  {
   "cell_type": "code",
   "execution_count": 133,
   "metadata": {},
   "outputs": [],
   "source": [
    "for i in list(range(0,len(s3_bucket),1)):\n",
    "    file_path = s3_bucket.loc[i,'Key']\n",
    "    \n",
    "    \n",
    "    file_path = s3_bucket.loc[i,'Key']\n",
    "    filename = file_path.split('/')[::-1][0]\n",
    "    \n",
    "    s3.download_file(Bucket=bucket, Filename=filename, Key=file_path)           \n",
    "    \n",
    "    print(filename)\n",
    "    print(file_path)"
   ]
  },
  {
   "cell_type": "code",
   "execution_count": null,
   "metadata": {},
   "outputs": [],
   "source": []
  }
 ],
 "metadata": {
  "instance_type": "ml.t3.medium",
  "kernelspec": {
   "display_name": "Python 3 (Data Science)",
   "language": "python",
   "name": "python3__SAGEMAKER_INTERNAL__arn:aws:sagemaker:us-east-1:081325390199:image/datascience-1.0"
  },
  "language_info": {
   "codemirror_mode": {
    "name": "ipython",
    "version": 3
   },
   "file_extension": ".py",
   "mimetype": "text/x-python",
   "name": "python",
   "nbconvert_exporter": "python",
   "pygments_lexer": "ipython3",
   "version": "3.7.10"
  }
 },
 "nbformat": 4,
 "nbformat_minor": 4
}
