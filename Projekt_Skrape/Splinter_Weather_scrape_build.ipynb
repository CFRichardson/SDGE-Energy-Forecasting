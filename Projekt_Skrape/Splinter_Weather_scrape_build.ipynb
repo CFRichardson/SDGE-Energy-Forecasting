{
 "cells": [
  {
   "cell_type": "code",
   "execution_count": 8,
   "id": "b0d98447-1c61-4c3c-b268-a8d20813dfc5",
   "metadata": {
    "executionInfo": {
     "elapsed": 6,
     "status": "ok",
     "timestamp": 1647216185201,
     "user": {
      "displayName": "Christopher Richardson",
      "photoUrl": "https://lh3.googleusercontent.com/a/default-user=s64",
      "userId": "09766026346975996839"
     },
     "user_tz": 420
    },
    "id": "b0d98447-1c61-4c3c-b268-a8d20813dfc5"
   },
   "outputs": [],
   "source": [
    "import warnings\n",
    "warnings.filterwarnings('ignore')\n",
    "\n",
    "# import required modules\n",
    "import datetime\n",
    "import json\n",
    "import os\n",
    "import pandas as pd\n",
    "import random\n",
    "import requests\n",
    "import time\n",
    "\n",
    "from splinter import Browser\n",
    "\n",
    "# splinter set up\n",
    "path_ = '/Volumes/GoogleDrive/My Drive/508/Projekt_Skrape/chromedriver'\n",
    "executable_path = {'executable_path':path_}"
   ]
  },
  {
   "cell_type": "code",
   "execution_count": 2,
   "id": "95a2c4f8-03d3-4480-8d2a-52465e926f09",
   "metadata": {},
   "outputs": [],
   "source": [
    "def random_sleep(max=8):\n",
    "    '''Invoke sleep for a random time, ranging from 2-8 seconds'''\n",
    "    ran_num = random.randrange(2,max)\n",
    "    time.sleep(ran_num)"
   ]
  },
  {
   "cell_type": "code",
   "execution_count": 15,
   "id": "a03d077b-78d4-4d24-a441-eda760ddfcd1",
   "metadata": {},
   "outputs": [],
   "source": [
    "locations = ['Campo', \n",
    "             'Carlbad', \n",
    "             'Oceanside Airport', \n",
    "             'Ramona', \n",
    "             'San Diego Brown Field',\n",
    "             'San Diego Lindbergh Field',\n",
    "             'San Diego Mont. Field']\n",
    "\n",
    "months = ['January',\n",
    "          'February',\n",
    "          'March',\n",
    "          'April',\n",
    "          'May',\n",
    "          'June',\n",
    "          'July',\n",
    "          'August',\n",
    "          'September',\n",
    "          'October',\n",
    "          'November',\n",
    "          'December']\n",
    "\n",
    "years = ['2009',\n",
    "         '2010',\n",
    "         '2011',\n",
    "         '2012',\n",
    "         '2013',\n",
    "         '2014',\n",
    "         '2015',\n",
    "         '2016',\n",
    "         '2017',\n",
    "         '2018',\n",
    "         '2019',\n",
    "         '2020',\n",
    "         '2021']\n"
   ]
  },
  {
   "cell_type": "code",
   "execution_count": 16,
   "id": "ef9ed021-98c1-4e30-8524-254bab9daaa6",
   "metadata": {},
   "outputs": [],
   "source": [
    "# launch browser and point to URL\n",
    "browser = Browser('chrome', **executable_path)\n",
    "url = 'https://www.weather.gov/sgx/cliplot'\n",
    "browser.visit(url)"
   ]
  },
  {
   "cell_type": "code",
   "execution_count": 21,
   "id": "1d720cc6-1d9f-4647-a9ad-ecc4943321ec",
   "metadata": {},
   "outputs": [],
   "source": [
    "locations = [\n",
    "    'Campo', \n",
    "    'Carlbad', \n",
    "    'Oceanside Airport', \n",
    "    'Ramona', \n",
    "    'San Diego Brown Field', \n",
    "    'San Diego Lindbergh Field', \n",
    "    'San Diego Mont. Field'\n",
    "]"
   ]
  },
  {
   "cell_type": "code",
   "execution_count": 19,
   "id": "48ede4a2-5944-42f0-8938-7fa75904d00d",
   "metadata": {},
   "outputs": [
    {
     "data": {
      "text/plain": [
       "['geckodriver.log',\n",
       " 'chromedriver',\n",
       " 'Splinter_Weather_scrape_build.ipynb',\n",
       " '.DS_Store',\n",
       " '.ipynb_checkpoints',\n",
       " 'Untitled.ipynb',\n",
       " 'Data_Inspector.ipynb',\n",
       " 'linbergh_field',\n",
       " 'Campo',\n",
       " '.virtual_documents']"
      ]
     },
     "execution_count": 19,
     "metadata": {},
     "output_type": "execute_result"
    }
   ],
   "source": [
    "os.listdir()"
   ]
  },
  {
   "cell_type": "code",
   "execution_count": 22,
   "id": "821486a9-4ce1-4bb8-a8fc-71a8aba92495",
   "metadata": {},
   "outputs": [
    {
     "name": "stdout",
     "output_type": "stream",
     "text": [
      "Time Lapsed -2057.04434299469.\n",
      "Time Lapsed -2235.411094903946.\n",
      "Time Lapsed -10868.77653002739.\n",
      "Time Lapsed -3162.848436832428.\n",
      "Time Lapsed -1379.7081379890442.\n"
     ]
    }
   ],
   "source": [
    "for loc in locations:\n",
    "    browser.find_by_id('SelectSite').find_by_xpath(f\"//button[normalize-space()='{loc}']\").click()\n",
    "    browser.click_link_by_href('#tabs-4')\n",
    "    \n",
    "    os.mkdir(f'{loc}')\n",
    "    os.chdir(f'{loc}')\n",
    "\n",
    "    # start unix time\n",
    "    t1 = time.time()\n",
    "    \n",
    "    for year in years:\n",
    "        # click dropdown menu and select year\n",
    "        year_list = browser.find_by_id('PrevCalYear')\n",
    "        year_list.select(year)\n",
    "\n",
    "        os.mkdir(f'{loc}_{year}')\n",
    "        os.chdir(f'{loc}_{year}')\n",
    "\n",
    "        for month in months:\n",
    "            # click on wanted month\n",
    "            browser.find_by_id('MonthRow').find_by_xpath(f\"//button[normalize-space()='{month}']\").click()\n",
    "\n",
    "            # Pause & allow website to materialize\n",
    "            random_sleep()\n",
    "\n",
    "            # Pull HTML & convert to pd.DFs\n",
    "            html = browser.find_by_id('PrevDataTable').html\n",
    "            dfs = pd.read_html(html)\n",
    "\n",
    "            dfs[0].to_csv(f'{year}_{month}.csv')\n",
    "\n",
    "            # allow system to complete above tasks\n",
    "            random_sleep()\n",
    "\n",
    "        # move back to main scrape location folder\n",
    "        os.chdir('..')\n",
    "        \n",
    "        # ending unix time\n",
    "    t2 = time.time()\n",
    "    print(f'Time Lapsed {t2-t1}.')\n",
    "    \n",
    "    # move backto main dir\n",
    "    os.chdir('..')\n",
    "\n",
    "browser.quit()"
   ]
  },
  {
   "cell_type": "code",
   "execution_count": null,
   "id": "75b3036f-9cef-48ad-939a-f954ad587691",
   "metadata": {},
   "outputs": [],
   "source": []
  }
 ],
 "metadata": {
  "colab": {
   "collapsed_sections": [],
   "name": "Untitled.ipynb",
   "provenance": []
  },
  "kernelspec": {
   "display_name": "Python 3",
   "language": "python",
   "name": "python3"
  },
  "language_info": {
   "codemirror_mode": {
    "name": "ipython",
    "version": 3
   },
   "file_extension": ".py",
   "mimetype": "text/x-python",
   "name": "python",
   "nbconvert_exporter": "python",
   "pygments_lexer": "ipython3",
   "version": "3.8.8"
  }
 },
 "nbformat": 4,
 "nbformat_minor": 5
}
