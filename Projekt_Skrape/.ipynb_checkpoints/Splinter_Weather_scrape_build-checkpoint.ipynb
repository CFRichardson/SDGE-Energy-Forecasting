{
 "cells": [
  {
   "cell_type": "code",
   "execution_count": null,
   "id": "41c9496b-ca73-41bf-a7f9-f02c188b0e12",
   "metadata": {},
   "outputs": [],
   "source": [
    "import warnings\n",
    "warnings.filterwarnings('ignore')"
   ]
  },
  {
   "cell_type": "code",
   "execution_count": 1,
   "id": "b0d98447-1c61-4c3c-b268-a8d20813dfc5",
   "metadata": {
    "executionInfo": {
     "elapsed": 6,
     "status": "ok",
     "timestamp": 1647216185201,
     "user": {
      "displayName": "Christopher Richardson",
      "photoUrl": "https://lh3.googleusercontent.com/a/default-user=s64",
      "userId": "09766026346975996839"
     },
     "user_tz": 420
    },
    "id": "b0d98447-1c61-4c3c-b268-a8d20813dfc5"
   },
   "outputs": [],
   "source": [
    "# import required modules\n",
    "import datetime\n",
    "import json\n",
    "import pandas as pd\n",
    "import requests\n",
    "import time\n",
    "\n",
    "from splinter import Browser\n",
    "\n",
    "# splinter set up\n",
    "path_ = '/Volumes/GoogleDrive/My Drive/508/chromedriver'\n",
    "executable_path = {'executable_path':path_}"
   ]
  },
  {
   "cell_type": "code",
   "execution_count": 29,
   "id": "f02efd27-1b3b-4ee4-b646-d13ae43ff647",
   "metadata": {},
   "outputs": [],
   "source": [
    "# launch browser and point to URL\n",
    "browser = Browser('chrome', **executable_path)\n",
    "url = 'https://www.weather.gov/sgx/cliplot'\n",
    "browser.visit(url)"
   ]
  },
  {
   "cell_type": "code",
   "execution_count": null,
   "id": "a03d077b-78d4-4d24-a441-eda760ddfcd1",
   "metadata": {},
   "outputs": [],
   "source": [
    "years = ['2009','2010','2011','2012','2013','2014','2015','2016','2017','2018','2019','2020','2021']\n",
    "\n",
    "months = [\n",
    "    'January',\n",
    "    'February',\n",
    "    'March',\n",
    "    'April',\n",
    "    'May',\n",
    "    'June',\n",
    "    'July',\n",
    "    'August',\n",
    "    'September',\n",
    "    'October',\n",
    "    'November',\n",
    "    'December'\n",
    "]"
   ]
  },
  {
   "cell_type": "code",
   "execution_count": 30,
   "id": "31f55918-ed9d-497a-8d35-3be4dd69ae61",
   "metadata": {},
   "outputs": [
    {
     "name": "stderr",
     "output_type": "stream",
     "text": [
      "/Users/transformative/opt/anaconda3/envs/py/lib/python3.8/site-packages/splinter/driver/webdriver/__init__.py:501: FutureWarning: browser.find_link_by_href is deprecated. Use browser.links.find_by_href instead.\n",
      "  warnings.warn(\n"
     ]
    }
   ],
   "source": [
    "browser.click_link_by_href('#tabs-4')\n",
    "year_list = browser.find_by_id('PrevCalYear')"
   ]
  },
  {
   "cell_type": "code",
   "execution_count": 31,
   "id": "c7711d4f-752d-433e-954f-384aaa74ab42",
   "metadata": {},
   "outputs": [],
   "source": []
  },
  {
   "cell_type": "code",
   "execution_count": 1,
   "id": "821486a9-4ce1-4bb8-a8fc-71a8aba92495",
   "metadata": {},
   "outputs": [],
   "source": [
    "year = '2009'\n",
    "for month in months:\n",
    "    # click on wanted month\n",
    "    browser.find_by_id('MonthRow').find_by_xpath(f\"//button[normalize-space()='{month}']\").click()\n",
    "\n",
    "    # Pause & allow website to materialize\n",
    "    time.sleep(2)\n",
    "\n",
    "    # Pull HTML & convert to pd.DFs\n",
    "    html = browser.find_by_id('PrevDataTable').html\n",
    "    dfs = pd.read_html(html)\n",
    "\n",
    "    dfs[0].to_csv(f'{year}_{month}.csv')\n",
    "\n",
    "    # allow system to complete above tasks\n",
    "    time.sleep(1)"
   ]
  },
  {
   "cell_type": "code",
   "execution_count": null,
   "id": "1f0077a1-05d7-482e-84df-0a1104b60654",
   "metadata": {},
   "outputs": [],
   "source": []
  }
 ],
 "metadata": {
  "colab": {
   "collapsed_sections": [],
   "name": "Untitled.ipynb",
   "provenance": []
  },
  "kernelspec": {
   "display_name": "Python 3",
   "language": "python",
   "name": "python3"
  },
  "language_info": {
   "codemirror_mode": {
    "name": "ipython",
    "version": 3
   },
   "file_extension": ".py",
   "mimetype": "text/x-python",
   "name": "python",
   "nbconvert_exporter": "python",
   "pygments_lexer": "ipython3",
   "version": "3.8.8"
  }
 },
 "nbformat": 4,
 "nbformat_minor": 5
}
