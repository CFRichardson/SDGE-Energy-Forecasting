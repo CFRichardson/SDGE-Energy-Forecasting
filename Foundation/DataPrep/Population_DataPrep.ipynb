{
 "cells": [
  {
   "cell_type": "code",
   "execution_count": 32,
   "metadata": {
    "id": "JltFfHz5R6Md"
   },
   "outputs": [],
   "source": [
    "# Notebook ssetup\n",
    "import os\n",
    "import numpy as np\n",
    "import pandas as pd\n",
    "import re\n",
    "\n",
    "# directories\n",
    "clean = 'Clean_Data/'\n",
    "raw = 'Foundation/Raw Data/'\n",
    "root = '/root/'\n",
    "\n",
    "def concatenator(base_dir, folder):\n",
    "  ''' \n",
    "  Takes in file directory and specific folder name.\n",
    "  Returns all files in directory as a single pd.DF   \n",
    "  '''\n",
    "\n",
    "  files = os.listdir(base_dir + folder)\n",
    "\n",
    "  # append all files to\n",
    "  dfs = []\n",
    "\n",
    "  # loop over files in folder and append to dfs list\n",
    "  for file_ in files:\n",
    "    df = pd.read_csv(os.path.join(base_dir, folder, file_))\n",
    "    dfs.append(df)\n",
    "\n",
    "  return pd.concat(dfs, axis=0, ignore_index=True)\n"
   ]
  },
  {
   "cell_type": "markdown",
   "metadata": {
    "id": "yBOiZksXYEpE"
   },
   "source": [
    "# Zip Code Ground Truth\n",
    "San Diego COUNTY Zip Code list is from [sdcourt.ca.gov/sdcourt/familyandchildren2/wheretofile/zipcodedirectory](https://www.sdcourt.ca.gov/sdcourt/familyandchildren2/wheretofile/zipcodedirectory).\n",
    "\n",
    "<br><br>\n",
    "**Zip Code Ground Truth will be utilize to filter out any unnecessary Zip Codes from other Data Tables.**\n",
    "\n",
    "PDF was processed via Google Colab due to Java dependencies of AWS Sagemaker."
   ]
  },
  {
   "cell_type": "code",
   "execution_count": 33,
   "metadata": {
    "colab": {
     "base_uri": "https://localhost:8080/"
    },
    "id": "EkE-oKUPT0UJ",
    "outputId": "9370ea20-6161-43dc-c193-b8c04d0173e0"
   },
   "outputs": [
    {
     "data": {
      "text/plain": [
       "0    91901.0\n",
       "1    91902.0\n",
       "2    91903.0\n",
       "Name: ZIP CODE, dtype: float64"
      ]
     },
     "execution_count": 33,
     "metadata": {},
     "output_type": "execute_result"
    }
   ],
   "source": [
    "# read in GROUND TRUTH\n",
    "file_path = root + raw + 'Other/' + 'Zip_Codes_by_Court_District_GROUND_TRUTH.csv'\n",
    "official_zip_code_df = pd.read_csv(file_path)\n",
    "official_zip_codes = official_zip_code_df['ZIP CODE']\n",
    "official_zip_codes[:3]"
   ]
  },
  {
   "cell_type": "markdown",
   "metadata": {
    "id": "oOhQNFuKppS1"
   },
   "source": [
    "# Census Data"
   ]
  },
  {
   "cell_type": "markdown",
   "metadata": {
    "id": "GR-47Fhicvui"
   },
   "source": [
    "### Read in Cencus Population Data"
   ]
  },
  {
   "cell_type": "code",
   "execution_count": 34,
   "metadata": {
    "colab": {
     "base_uri": "https://localhost:8080/",
     "height": 143
    },
    "id": "zHHixQz5IH4I",
    "outputId": "c6c5aab6-f3f3-4555-b6a5-54da34a0a50b"
   },
   "outputs": [
    {
     "data": {
      "text/html": [
       "<div>\n",
       "<style scoped>\n",
       "    .dataframe tbody tr th:only-of-type {\n",
       "        vertical-align: middle;\n",
       "    }\n",
       "\n",
       "    .dataframe tbody tr th {\n",
       "        vertical-align: top;\n",
       "    }\n",
       "\n",
       "    .dataframe thead th {\n",
       "        text-align: right;\n",
       "    }\n",
       "</style>\n",
       "<table border=\"1\" class=\"dataframe\">\n",
       "  <thead>\n",
       "    <tr style=\"text-align: right;\">\n",
       "      <th></th>\n",
       "      <th>Zip</th>\n",
       "      <th>Est</th>\n",
       "      <th>MOE</th>\n",
       "      <th>Year</th>\n",
       "    </tr>\n",
       "  </thead>\n",
       "  <tbody>\n",
       "    <tr>\n",
       "      <th>0</th>\n",
       "      <td>ZCTA5 91905</td>\n",
       "      <td>1,665</td>\n",
       "      <td>±426</td>\n",
       "      <td>2020</td>\n",
       "    </tr>\n",
       "    <tr>\n",
       "      <th>1</th>\n",
       "      <td>ZCTA5 91906</td>\n",
       "      <td>4,327</td>\n",
       "      <td>±640</td>\n",
       "      <td>2020</td>\n",
       "    </tr>\n",
       "    <tr>\n",
       "      <th>2</th>\n",
       "      <td>ZCTA5 91910</td>\n",
       "      <td>74,233</td>\n",
       "      <td>±2,892</td>\n",
       "      <td>2020</td>\n",
       "    </tr>\n",
       "  </tbody>\n",
       "</table>\n",
       "</div>"
      ],
      "text/plain": [
       "           Zip     Est     MOE  Year\n",
       "0  ZCTA5 91905   1,665    ±426  2020\n",
       "1  ZCTA5 91906   4,327    ±640  2020\n",
       "2  ZCTA5 91910  74,233  ±2,892  2020"
      ]
     },
     "execution_count": 34,
     "metadata": {},
     "output_type": "execute_result"
    }
   ],
   "source": [
    "folder_path = root +  raw + 'Population/'\n",
    "files = os.listdir(folder_path)\n",
    "\n",
    "dfs = []\n",
    "\n",
    "for file_ in files:\n",
    "  file_path = folder_path + file_\n",
    "  pop_df = pd.read_excel(file_path, sheet_name='Data')\n",
    "\n",
    "  # remove first column of Label/Total\n",
    "  pop_df = pop_df.iloc[:,1:]\n",
    "\n",
    "  zip_data = []\n",
    "  # loop through multiple of 2 columns per loop\n",
    "  indices = list(range(2,222,2))\n",
    "  for i in range(len(indices)):\n",
    "\n",
    "  # @ end of for loop will throw an OUT OF RANGE error due to max_\n",
    "    try:\n",
    "      min_ = indices[i]\n",
    "      max_ = indices[i+1]\n",
    "\n",
    "      # list to store data\n",
    "      row = []\n",
    "      # get row Zip Code\n",
    "      row.append(pop_df.iloc[:,min_:max_].columns[0])\n",
    "\n",
    "      # gather zip code data\n",
    "      data = list(pop_df.iloc[1,min_:max_])\n",
    "      # get row pop esimate\n",
    "      row.append(data[0])\n",
    "      # get row pop Margine Error\n",
    "      row.append(data[1])\n",
    "      \n",
    "      # append data to master list\n",
    "      zip_data.append(row)\n",
    "    except:\n",
    "      pass\n",
    "\n",
    "  df = pd.DataFrame(zip_data, columns=['Zip', 'Est', 'MOE'])\n",
    "\n",
    "  char_num = file_path.find('ACSDT5Y')\n",
    "  year_string = file_path[char_num:].split('.')[0]\n",
    "  year_string = year_string.split('Y')[1]\n",
    "\n",
    "  df['Year'] = year_string\n",
    "\n",
    "  dfs.append(df)\n",
    "\n",
    "pop_df = pd.concat(dfs)\n",
    "pop_df = pop_df.reset_index(drop=True)\n",
    "pop_df.head(3)"
   ]
  },
  {
   "cell_type": "code",
   "execution_count": 35,
   "metadata": {
    "colab": {
     "base_uri": "https://localhost:8080/"
    },
    "id": "PdXc9Cchfn_Z",
    "outputId": "ce17d1f0-57c4-4ddd-d040-fcae620345ef"
   },
   "outputs": [
    {
     "data": {
      "text/plain": [
       "(604, 4)"
      ]
     },
     "execution_count": 35,
     "metadata": {},
     "output_type": "execute_result"
    }
   ],
   "source": [
    "pop_df.shape"
   ]
  },
  {
   "cell_type": "markdown",
   "metadata": {
    "id": "BIru0XvTZ6Kp"
   },
   "source": [
    "## Data Cleanup"
   ]
  },
  {
   "cell_type": "markdown",
   "metadata": {
    "id": "q5cGLqddLRzo"
   },
   "source": [
    "### Convert Census columns to Int"
   ]
  },
  {
   "cell_type": "code",
   "execution_count": 36,
   "metadata": {
    "colab": {
     "base_uri": "https://localhost:8080/",
     "height": 143
    },
    "id": "1RKomgThMy2D",
    "outputId": "98e1f108-8feb-472f-8c2d-4abda0696c0b"
   },
   "outputs": [
    {
     "data": {
      "text/html": [
       "<div>\n",
       "<style scoped>\n",
       "    .dataframe tbody tr th:only-of-type {\n",
       "        vertical-align: middle;\n",
       "    }\n",
       "\n",
       "    .dataframe tbody tr th {\n",
       "        vertical-align: top;\n",
       "    }\n",
       "\n",
       "    .dataframe thead th {\n",
       "        text-align: right;\n",
       "    }\n",
       "</style>\n",
       "<table border=\"1\" class=\"dataframe\">\n",
       "  <thead>\n",
       "    <tr style=\"text-align: right;\">\n",
       "      <th></th>\n",
       "      <th>Zip</th>\n",
       "      <th>Est</th>\n",
       "      <th>MOE</th>\n",
       "      <th>Year</th>\n",
       "    </tr>\n",
       "  </thead>\n",
       "  <tbody>\n",
       "    <tr>\n",
       "      <th>0</th>\n",
       "      <td>91905</td>\n",
       "      <td>1,665</td>\n",
       "      <td>±426</td>\n",
       "      <td>2020</td>\n",
       "    </tr>\n",
       "    <tr>\n",
       "      <th>1</th>\n",
       "      <td>91906</td>\n",
       "      <td>4,327</td>\n",
       "      <td>±640</td>\n",
       "      <td>2020</td>\n",
       "    </tr>\n",
       "    <tr>\n",
       "      <th>2</th>\n",
       "      <td>91910</td>\n",
       "      <td>74,233</td>\n",
       "      <td>±2,892</td>\n",
       "      <td>2020</td>\n",
       "    </tr>\n",
       "  </tbody>\n",
       "</table>\n",
       "</div>"
      ],
      "text/plain": [
       "      Zip     Est     MOE  Year\n",
       "0   91905   1,665    ±426  2020\n",
       "1   91906   4,327    ±640  2020\n",
       "2   91910  74,233  ±2,892  2020"
      ]
     },
     "execution_count": 36,
     "metadata": {},
     "output_type": "execute_result"
    }
   ],
   "source": [
    "pop_df['Zip'] = pop_df['Zip'].str.replace('ZCTA5', '')\n",
    "pop_df.head(3)"
   ]
  },
  {
   "cell_type": "code",
   "execution_count": 37,
   "metadata": {
    "colab": {
     "base_uri": "https://localhost:8080/",
     "height": 250
    },
    "id": "DTXn-TEfM8AO",
    "outputId": "b46f86b1-8aca-41dd-aa98-18e328936375"
   },
   "outputs": [
    {
     "name": "stdout",
     "output_type": "stream",
     "text": [
      "Zip     object\n",
      "Est     object\n",
      "MOE     object\n",
      "Year    object\n",
      "dtype: object \n",
      "\n"
     ]
    },
    {
     "data": {
      "text/html": [
       "<div>\n",
       "<style scoped>\n",
       "    .dataframe tbody tr th:only-of-type {\n",
       "        vertical-align: middle;\n",
       "    }\n",
       "\n",
       "    .dataframe tbody tr th {\n",
       "        vertical-align: top;\n",
       "    }\n",
       "\n",
       "    .dataframe thead th {\n",
       "        text-align: right;\n",
       "    }\n",
       "</style>\n",
       "<table border=\"1\" class=\"dataframe\">\n",
       "  <thead>\n",
       "    <tr style=\"text-align: right;\">\n",
       "      <th></th>\n",
       "      <th>Zip</th>\n",
       "      <th>Est</th>\n",
       "      <th>MOE</th>\n",
       "      <th>Year</th>\n",
       "    </tr>\n",
       "  </thead>\n",
       "  <tbody>\n",
       "    <tr>\n",
       "      <th>0</th>\n",
       "      <td>91905</td>\n",
       "      <td>1665</td>\n",
       "      <td>426</td>\n",
       "      <td>2020</td>\n",
       "    </tr>\n",
       "    <tr>\n",
       "      <th>1</th>\n",
       "      <td>91906</td>\n",
       "      <td>4327</td>\n",
       "      <td>640</td>\n",
       "      <td>2020</td>\n",
       "    </tr>\n",
       "    <tr>\n",
       "      <th>2</th>\n",
       "      <td>91910</td>\n",
       "      <td>74233</td>\n",
       "      <td>2892</td>\n",
       "      <td>2020</td>\n",
       "    </tr>\n",
       "  </tbody>\n",
       "</table>\n",
       "</div>"
      ],
      "text/plain": [
       "      Zip    Est   MOE  Year\n",
       "0   91905   1665   426  2020\n",
       "1   91906   4327   640  2020\n",
       "2   91910  74233  2892  2020"
      ]
     },
     "execution_count": 37,
     "metadata": {},
     "output_type": "execute_result"
    }
   ],
   "source": [
    "# remove unwanted chars\n",
    "pop_df['Est'] = pop_df['Est'].str.replace(',', '')\n",
    "\n",
    "pop_df['MOE'] = pop_df['MOE'].str.replace('±', '')\n",
    "pop_df['MOE'] = pop_df['MOE'].str.replace(',', '')\n",
    "\n",
    "print(pop_df.dtypes, '\\n')\n",
    "pop_df.head(3)"
   ]
  },
  {
   "cell_type": "code",
   "execution_count": 38,
   "metadata": {
    "colab": {
     "base_uri": "https://localhost:8080/",
     "height": 250
    },
    "id": "sp6DHsrpSVOp",
    "outputId": "b817b04e-c778-4132-e70b-42e7a790a831"
   },
   "outputs": [
    {
     "name": "stdout",
     "output_type": "stream",
     "text": [
      "Zip     object\n",
      "Est     object\n",
      "MOE     object\n",
      "Year    object\n",
      "dtype: object \n",
      "\n"
     ]
    },
    {
     "data": {
      "text/html": [
       "<div>\n",
       "<style scoped>\n",
       "    .dataframe tbody tr th:only-of-type {\n",
       "        vertical-align: middle;\n",
       "    }\n",
       "\n",
       "    .dataframe tbody tr th {\n",
       "        vertical-align: top;\n",
       "    }\n",
       "\n",
       "    .dataframe thead th {\n",
       "        text-align: right;\n",
       "    }\n",
       "</style>\n",
       "<table border=\"1\" class=\"dataframe\">\n",
       "  <thead>\n",
       "    <tr style=\"text-align: right;\">\n",
       "      <th></th>\n",
       "      <th>Zip</th>\n",
       "      <th>Est</th>\n",
       "      <th>MOE</th>\n",
       "      <th>Year</th>\n",
       "    </tr>\n",
       "  </thead>\n",
       "  <tbody>\n",
       "    <tr>\n",
       "      <th>0</th>\n",
       "      <td>91905</td>\n",
       "      <td>1665</td>\n",
       "      <td>426</td>\n",
       "      <td>2020</td>\n",
       "    </tr>\n",
       "    <tr>\n",
       "      <th>1</th>\n",
       "      <td>91906</td>\n",
       "      <td>4327</td>\n",
       "      <td>640</td>\n",
       "      <td>2020</td>\n",
       "    </tr>\n",
       "    <tr>\n",
       "      <th>2</th>\n",
       "      <td>91910</td>\n",
       "      <td>74233</td>\n",
       "      <td>2892</td>\n",
       "      <td>2020</td>\n",
       "    </tr>\n",
       "  </tbody>\n",
       "</table>\n",
       "</div>"
      ],
      "text/plain": [
       "      Zip    Est   MOE  Year\n",
       "0   91905   1665   426  2020\n",
       "1   91906   4327   640  2020\n",
       "2   91910  74233  2892  2020"
      ]
     },
     "execution_count": 38,
     "metadata": {},
     "output_type": "execute_result"
    }
   ],
   "source": [
    "# remove unwanted chars\n",
    "pop_df['Est'] = pop_df['Est'].str.replace(',', '')\n",
    "\n",
    "pop_df['MOE'] = pop_df['MOE'].str.replace('±', '')\n",
    "pop_df['MOE'] = pop_df['MOE'].str.replace(',', '')\n",
    "\n",
    "print(pop_df.dtypes, '\\n')\n",
    "pop_df.head(3)"
   ]
  },
  {
   "cell_type": "code",
   "execution_count": 39,
   "metadata": {
    "colab": {
     "base_uri": "https://localhost:8080/"
    },
    "id": "fvOPJ9BBhf9j",
    "outputId": "98556743-2f2e-4660-eb4c-0f9a89ea97e0"
   },
   "outputs": [
    {
     "data": {
      "text/plain": [
       "Zip     int64\n",
       "Est     int64\n",
       "MOE     int64\n",
       "Year    int64\n",
       "dtype: object"
      ]
     },
     "execution_count": 39,
     "metadata": {},
     "output_type": "execute_result"
    }
   ],
   "source": [
    "pop_df_columns = pop_df.columns\n",
    "\n",
    "for col in pop_df_columns:\n",
    "  pop_df[col] = pop_df[col].astype(int)\n",
    "\n",
    "pop_df.dtypes"
   ]
  },
  {
   "cell_type": "markdown",
   "metadata": {
    "id": "BAu5C2ezZhi-"
   },
   "source": [
    "### Remove Unwanted Zip Codes from Census"
   ]
  },
  {
   "cell_type": "code",
   "execution_count": 40,
   "metadata": {
    "colab": {
     "base_uri": "https://localhost:8080/"
    },
    "id": "piXkfQD4bdVU",
    "outputId": "a79a5a64-ed59-4782-e729-ea2cce1db43e"
   },
   "outputs": [
    {
     "data": {
      "text/plain": [
       "(604, 4)"
      ]
     },
     "execution_count": 40,
     "metadata": {},
     "output_type": "execute_result"
    }
   ],
   "source": [
    "pop_df.shape"
   ]
  },
  {
   "cell_type": "code",
   "execution_count": 41,
   "metadata": {
    "colab": {
     "base_uri": "https://localhost:8080/"
    },
    "id": "FJhzBBD8ZnUO",
    "outputId": "c75830df-7213-473b-f613-75147e91582b"
   },
   "outputs": [
    {
     "data": {
      "text/plain": [
       "(604, 4)"
      ]
     },
     "execution_count": 41,
     "metadata": {},
     "output_type": "execute_result"
    }
   ],
   "source": [
    "# compare pop_df zip code to official zip codes\n",
    "pop_df = pop_df[pop_df['Zip'].isin(official_zip_codes)].copy()\n",
    "pop_df.shape"
   ]
  },
  {
   "cell_type": "markdown",
   "metadata": {
    "id": "Ho0kTUBkcsZo"
   },
   "source": [
    "# Merge Pop W/ Weather Station Location Name\n",
    "Which will then be merged via SageMaker Data Wrangler"
   ]
  },
  {
   "cell_type": "code",
   "execution_count": 42,
   "metadata": {
    "colab": {
     "base_uri": "https://localhost:8080/",
     "height": 250
    },
    "id": "XLqzQId_iOhv",
    "outputId": "c4a9d4a6-3c19-4f13-d2aa-5e41c3cd0234"
   },
   "outputs": [
    {
     "data": {
      "text/html": [
       "<div>\n",
       "<style scoped>\n",
       "    .dataframe tbody tr th:only-of-type {\n",
       "        vertical-align: middle;\n",
       "    }\n",
       "\n",
       "    .dataframe tbody tr th {\n",
       "        vertical-align: top;\n",
       "    }\n",
       "\n",
       "    .dataframe thead th {\n",
       "        text-align: right;\n",
       "    }\n",
       "</style>\n",
       "<table border=\"1\" class=\"dataframe\">\n",
       "  <thead>\n",
       "    <tr style=\"text-align: right;\">\n",
       "      <th></th>\n",
       "      <th>linbergh_field</th>\n",
       "      <th>Campo</th>\n",
       "      <th>Carlsbad</th>\n",
       "      <th>Oceanside Airport</th>\n",
       "      <th>San Diego Mont. Field</th>\n",
       "      <th>Ramona</th>\n",
       "      <th>San Diego Brown Field</th>\n",
       "    </tr>\n",
       "  </thead>\n",
       "  <tbody>\n",
       "    <tr>\n",
       "      <th>0</th>\n",
       "      <td>92152</td>\n",
       "      <td>92021.0</td>\n",
       "      <td>92009.0</td>\n",
       "      <td>92069.0</td>\n",
       "      <td>92123.0</td>\n",
       "      <td>92064.0</td>\n",
       "      <td>91902.0</td>\n",
       "    </tr>\n",
       "    <tr>\n",
       "      <th>1</th>\n",
       "      <td>92106</td>\n",
       "      <td>92019.0</td>\n",
       "      <td>92029.0</td>\n",
       "      <td>92083.0</td>\n",
       "      <td>92124.0</td>\n",
       "      <td>92040.0</td>\n",
       "      <td>91910.0</td>\n",
       "    </tr>\n",
       "    <tr>\n",
       "      <th>2</th>\n",
       "      <td>92140</td>\n",
       "      <td>91935.0</td>\n",
       "      <td>92024.0</td>\n",
       "      <td>92084.0</td>\n",
       "      <td>92120.0</td>\n",
       "      <td>92065.0</td>\n",
       "      <td>91914.0</td>\n",
       "    </tr>\n",
       "    <tr>\n",
       "      <th>3</th>\n",
       "      <td>92107</td>\n",
       "      <td>91901.0</td>\n",
       "      <td>92007.0</td>\n",
       "      <td>92028.0</td>\n",
       "      <td>92119.0</td>\n",
       "      <td>92036.0</td>\n",
       "      <td>91978.0</td>\n",
       "    </tr>\n",
       "    <tr>\n",
       "      <th>4</th>\n",
       "      <td>92110</td>\n",
       "      <td>91917.0</td>\n",
       "      <td>92091.0</td>\n",
       "      <td>92054.0</td>\n",
       "      <td>91942.0</td>\n",
       "      <td>91916.0</td>\n",
       "      <td>91913.0</td>\n",
       "    </tr>\n",
       "  </tbody>\n",
       "</table>\n",
       "</div>"
      ],
      "text/plain": [
       "   linbergh_field    Campo  Carlsbad  Oceanside Airport  \\\n",
       "0           92152  92021.0   92009.0            92069.0   \n",
       "1           92106  92019.0   92029.0            92083.0   \n",
       "2           92140  91935.0   92024.0            92084.0   \n",
       "3           92107  91901.0   92007.0            92028.0   \n",
       "4           92110  91917.0   92091.0            92054.0   \n",
       "\n",
       "   San Diego Mont. Field   Ramona  San Diego Brown Field  \n",
       "0                92123.0  92064.0                91902.0  \n",
       "1                92124.0  92040.0                91910.0  \n",
       "2                92120.0  92065.0                91914.0  \n",
       "3                92119.0  92036.0                91978.0  \n",
       "4                91942.0  91916.0                91913.0  "
      ]
     },
     "execution_count": 42,
     "metadata": {},
     "output_type": "execute_result"
    }
   ],
   "source": [
    "clean_data_dir = root + raw + 'Other/'\n",
    "zip_code_loc_df = pd.read_csv(clean_data_dir + 'Zipcode_Per_Location.csv')\n",
    "zip_code_loc_df.head()"
   ]
  },
  {
   "cell_type": "code",
   "execution_count": 43,
   "metadata": {
    "id": "qfJLp5wriOl3"
   },
   "outputs": [],
   "source": [
    "locations = []\n",
    "\n",
    "for index, row in pop_df.iterrows():\n",
    "  zip = row['Zip']\n",
    "\n",
    "  location_boolean = zip_code_loc_df.isin([zip]).any()\n",
    "  location = location_boolean[location_boolean == True].index\n",
    "  \n",
    "  try:\n",
    "    locations.append(location[0])\n",
    "  except:\n",
    "    continue\n",
    "\n",
    "pop_df['weather_station'] = locations"
   ]
  },
  {
   "cell_type": "code",
   "execution_count": 44,
   "metadata": {
    "colab": {
     "base_uri": "https://localhost:8080/",
     "height": 143
    },
    "id": "ECIxWsYJgfV5",
    "outputId": "412e27c5-ea12-4595-e6ea-9b54813205eb"
   },
   "outputs": [
    {
     "data": {
      "text/html": [
       "<div>\n",
       "<style scoped>\n",
       "    .dataframe tbody tr th:only-of-type {\n",
       "        vertical-align: middle;\n",
       "    }\n",
       "\n",
       "    .dataframe tbody tr th {\n",
       "        vertical-align: top;\n",
       "    }\n",
       "\n",
       "    .dataframe thead th {\n",
       "        text-align: right;\n",
       "    }\n",
       "</style>\n",
       "<table border=\"1\" class=\"dataframe\">\n",
       "  <thead>\n",
       "    <tr style=\"text-align: right;\">\n",
       "      <th></th>\n",
       "      <th>Zip</th>\n",
       "      <th>Est</th>\n",
       "      <th>MOE</th>\n",
       "      <th>Year</th>\n",
       "      <th>weather_station</th>\n",
       "    </tr>\n",
       "  </thead>\n",
       "  <tbody>\n",
       "    <tr>\n",
       "      <th>0</th>\n",
       "      <td>91905</td>\n",
       "      <td>1665</td>\n",
       "      <td>426</td>\n",
       "      <td>2020</td>\n",
       "      <td>Campo</td>\n",
       "    </tr>\n",
       "    <tr>\n",
       "      <th>1</th>\n",
       "      <td>91906</td>\n",
       "      <td>4327</td>\n",
       "      <td>640</td>\n",
       "      <td>2020</td>\n",
       "      <td>Campo</td>\n",
       "    </tr>\n",
       "    <tr>\n",
       "      <th>2</th>\n",
       "      <td>91910</td>\n",
       "      <td>74233</td>\n",
       "      <td>2892</td>\n",
       "      <td>2020</td>\n",
       "      <td>San Diego Brown Field</td>\n",
       "    </tr>\n",
       "  </tbody>\n",
       "</table>\n",
       "</div>"
      ],
      "text/plain": [
       "     Zip    Est   MOE  Year        weather_station\n",
       "0  91905   1665   426  2020                  Campo\n",
       "1  91906   4327   640  2020                  Campo\n",
       "2  91910  74233  2892  2020  San Diego Brown Field"
      ]
     },
     "execution_count": 44,
     "metadata": {},
     "output_type": "execute_result"
    }
   ],
   "source": [
    "pop_df.head(3)"
   ]
  },
  {
   "cell_type": "code",
   "execution_count": 45,
   "metadata": {
    "id": "QOHlUTqpc1V7"
   },
   "outputs": [
    {
     "ename": "FileNotFoundError",
     "evalue": "[Errno 2] Failed to open local file '/root/Foundation/Clean_Data/census_pop.parquet.gzip'. Detail: [errno 2] No such file or directory",
     "output_type": "error",
     "traceback": [
      "\u001b[0;31m---------------------------------------------------------------------------\u001b[0m",
      "\u001b[0;31mFileNotFoundError\u001b[0m                         Traceback (most recent call last)",
      "\u001b[0;32m<ipython-input-45-3c69e763ecc1>\u001b[0m in \u001b[0;36m<module>\u001b[0;34m\u001b[0m\n\u001b[1;32m      1\u001b[0m \u001b[0mclean_data_dir\u001b[0m \u001b[0;34m=\u001b[0m \u001b[0mroot\u001b[0m \u001b[0;34m+\u001b[0m \u001b[0mclean\u001b[0m\u001b[0;34m\u001b[0m\u001b[0;34m\u001b[0m\u001b[0m\n\u001b[1;32m      2\u001b[0m \u001b[0;34m\u001b[0m\u001b[0m\n\u001b[0;32m----> 3\u001b[0;31m \u001b[0mpop_df\u001b[0m\u001b[0;34m.\u001b[0m\u001b[0mto_parquet\u001b[0m\u001b[0;34m(\u001b[0m\u001b[0mclean_data_dir\u001b[0m \u001b[0;34m+\u001b[0m \u001b[0;34m'census_pop.parquet.gzip'\u001b[0m\u001b[0;34m,\u001b[0m \u001b[0mcompression\u001b[0m\u001b[0;34m=\u001b[0m\u001b[0;34m'gzip'\u001b[0m\u001b[0;34m)\u001b[0m\u001b[0;34m\u001b[0m\u001b[0;34m\u001b[0m\u001b[0m\n\u001b[0m",
      "\u001b[0;32m/opt/conda/lib/python3.7/site-packages/pandas/util/_decorators.py\u001b[0m in \u001b[0;36mwrapper\u001b[0;34m(*args, **kwargs)\u001b[0m\n\u001b[1;32m    212\u001b[0m                 \u001b[0;32melse\u001b[0m\u001b[0;34m:\u001b[0m\u001b[0;34m\u001b[0m\u001b[0;34m\u001b[0m\u001b[0m\n\u001b[1;32m    213\u001b[0m                     \u001b[0mkwargs\u001b[0m\u001b[0;34m[\u001b[0m\u001b[0mnew_arg_name\u001b[0m\u001b[0;34m]\u001b[0m \u001b[0;34m=\u001b[0m \u001b[0mnew_arg_value\u001b[0m\u001b[0;34m\u001b[0m\u001b[0;34m\u001b[0m\u001b[0m\n\u001b[0;32m--> 214\u001b[0;31m             \u001b[0;32mreturn\u001b[0m \u001b[0mfunc\u001b[0m\u001b[0;34m(\u001b[0m\u001b[0;34m*\u001b[0m\u001b[0margs\u001b[0m\u001b[0;34m,\u001b[0m \u001b[0;34m**\u001b[0m\u001b[0mkwargs\u001b[0m\u001b[0;34m)\u001b[0m\u001b[0;34m\u001b[0m\u001b[0;34m\u001b[0m\u001b[0m\n\u001b[0m\u001b[1;32m    215\u001b[0m \u001b[0;34m\u001b[0m\u001b[0m\n\u001b[1;32m    216\u001b[0m         \u001b[0;32mreturn\u001b[0m \u001b[0mcast\u001b[0m\u001b[0;34m(\u001b[0m\u001b[0mF\u001b[0m\u001b[0;34m,\u001b[0m \u001b[0mwrapper\u001b[0m\u001b[0;34m)\u001b[0m\u001b[0;34m\u001b[0m\u001b[0;34m\u001b[0m\u001b[0m\n",
      "\u001b[0;32m/opt/conda/lib/python3.7/site-packages/pandas/core/frame.py\u001b[0m in \u001b[0;36mto_parquet\u001b[0;34m(self, path, engine, compression, index, partition_cols, **kwargs)\u001b[0m\n\u001b[1;32m   2114\u001b[0m             \u001b[0mindex\u001b[0m\u001b[0;34m=\u001b[0m\u001b[0mindex\u001b[0m\u001b[0;34m,\u001b[0m\u001b[0;34m\u001b[0m\u001b[0;34m\u001b[0m\u001b[0m\n\u001b[1;32m   2115\u001b[0m             \u001b[0mpartition_cols\u001b[0m\u001b[0;34m=\u001b[0m\u001b[0mpartition_cols\u001b[0m\u001b[0;34m,\u001b[0m\u001b[0;34m\u001b[0m\u001b[0;34m\u001b[0m\u001b[0m\n\u001b[0;32m-> 2116\u001b[0;31m             \u001b[0;34m**\u001b[0m\u001b[0mkwargs\u001b[0m\u001b[0;34m,\u001b[0m\u001b[0;34m\u001b[0m\u001b[0;34m\u001b[0m\u001b[0m\n\u001b[0m\u001b[1;32m   2117\u001b[0m         )\n\u001b[1;32m   2118\u001b[0m \u001b[0;34m\u001b[0m\u001b[0m\n",
      "\u001b[0;32m/opt/conda/lib/python3.7/site-packages/pandas/io/parquet.py\u001b[0m in \u001b[0;36mto_parquet\u001b[0;34m(df, path, engine, compression, index, partition_cols, **kwargs)\u001b[0m\n\u001b[1;32m    262\u001b[0m         \u001b[0mindex\u001b[0m\u001b[0;34m=\u001b[0m\u001b[0mindex\u001b[0m\u001b[0;34m,\u001b[0m\u001b[0;34m\u001b[0m\u001b[0;34m\u001b[0m\u001b[0m\n\u001b[1;32m    263\u001b[0m         \u001b[0mpartition_cols\u001b[0m\u001b[0;34m=\u001b[0m\u001b[0mpartition_cols\u001b[0m\u001b[0;34m,\u001b[0m\u001b[0;34m\u001b[0m\u001b[0;34m\u001b[0m\u001b[0m\n\u001b[0;32m--> 264\u001b[0;31m         \u001b[0;34m**\u001b[0m\u001b[0mkwargs\u001b[0m\u001b[0;34m,\u001b[0m\u001b[0;34m\u001b[0m\u001b[0;34m\u001b[0m\u001b[0m\n\u001b[0m\u001b[1;32m    265\u001b[0m     )\n\u001b[1;32m    266\u001b[0m \u001b[0;34m\u001b[0m\u001b[0m\n",
      "\u001b[0;32m/opt/conda/lib/python3.7/site-packages/pandas/io/parquet.py\u001b[0m in \u001b[0;36mwrite\u001b[0;34m(self, df, path, compression, coerce_timestamps, index, partition_cols, **kwargs)\u001b[0m\n\u001b[1;32m    115\u001b[0m                 \u001b[0mcompression\u001b[0m\u001b[0;34m=\u001b[0m\u001b[0mcompression\u001b[0m\u001b[0;34m,\u001b[0m\u001b[0;34m\u001b[0m\u001b[0;34m\u001b[0m\u001b[0m\n\u001b[1;32m    116\u001b[0m                 \u001b[0mcoerce_timestamps\u001b[0m\u001b[0;34m=\u001b[0m\u001b[0mcoerce_timestamps\u001b[0m\u001b[0;34m,\u001b[0m\u001b[0;34m\u001b[0m\u001b[0;34m\u001b[0m\u001b[0m\n\u001b[0;32m--> 117\u001b[0;31m                 \u001b[0;34m**\u001b[0m\u001b[0mkwargs\u001b[0m\u001b[0;34m,\u001b[0m\u001b[0;34m\u001b[0m\u001b[0;34m\u001b[0m\u001b[0m\n\u001b[0m\u001b[1;32m    118\u001b[0m             )\n\u001b[1;32m    119\u001b[0m \u001b[0;34m\u001b[0m\u001b[0m\n",
      "\u001b[0;32m/opt/conda/lib/python3.7/site-packages/pyarrow/parquet.py\u001b[0m in \u001b[0;36mwrite_table\u001b[0;34m(table, where, row_group_size, version, use_dictionary, compression, write_statistics, use_deprecated_int96_timestamps, coerce_timestamps, allow_truncated_timestamps, data_page_size, flavor, filesystem, compression_level, use_byte_stream_split, data_page_version, use_compliant_nested_type, **kwargs)\u001b[0m\n\u001b[1;32m   2031\u001b[0m                 \u001b[0mdata_page_version\u001b[0m\u001b[0;34m=\u001b[0m\u001b[0mdata_page_version\u001b[0m\u001b[0;34m,\u001b[0m\u001b[0;34m\u001b[0m\u001b[0;34m\u001b[0m\u001b[0m\n\u001b[1;32m   2032\u001b[0m                 \u001b[0muse_compliant_nested_type\u001b[0m\u001b[0;34m=\u001b[0m\u001b[0muse_compliant_nested_type\u001b[0m\u001b[0;34m,\u001b[0m\u001b[0;34m\u001b[0m\u001b[0;34m\u001b[0m\u001b[0m\n\u001b[0;32m-> 2033\u001b[0;31m                 **kwargs) as writer:\n\u001b[0m\u001b[1;32m   2034\u001b[0m             \u001b[0mwriter\u001b[0m\u001b[0;34m.\u001b[0m\u001b[0mwrite_table\u001b[0m\u001b[0;34m(\u001b[0m\u001b[0mtable\u001b[0m\u001b[0;34m,\u001b[0m \u001b[0mrow_group_size\u001b[0m\u001b[0;34m=\u001b[0m\u001b[0mrow_group_size\u001b[0m\u001b[0;34m)\u001b[0m\u001b[0;34m\u001b[0m\u001b[0;34m\u001b[0m\u001b[0m\n\u001b[1;32m   2035\u001b[0m     \u001b[0;32mexcept\u001b[0m \u001b[0mException\u001b[0m\u001b[0;34m:\u001b[0m\u001b[0;34m\u001b[0m\u001b[0;34m\u001b[0m\u001b[0m\n",
      "\u001b[0;32m/opt/conda/lib/python3.7/site-packages/pyarrow/parquet.py\u001b[0m in \u001b[0;36m__init__\u001b[0;34m(self, where, schema, filesystem, flavor, version, use_dictionary, compression, write_statistics, use_deprecated_int96_timestamps, compression_level, use_byte_stream_split, writer_engine_version, data_page_version, use_compliant_nested_type, **options)\u001b[0m\n\u001b[1;32m    656\u001b[0m                 \u001b[0;31m# shouldn't implicitly apply compression.\u001b[0m\u001b[0;34m\u001b[0m\u001b[0;34m\u001b[0m\u001b[0;34m\u001b[0m\u001b[0m\n\u001b[1;32m    657\u001b[0m                 sink = self.file_handle = filesystem.open_output_stream(\n\u001b[0;32m--> 658\u001b[0;31m                     path, compression=None)\n\u001b[0m\u001b[1;32m    659\u001b[0m         \u001b[0;32melse\u001b[0m\u001b[0;34m:\u001b[0m\u001b[0;34m\u001b[0m\u001b[0;34m\u001b[0m\u001b[0m\n\u001b[1;32m    660\u001b[0m             \u001b[0msink\u001b[0m \u001b[0;34m=\u001b[0m \u001b[0mwhere\u001b[0m\u001b[0;34m\u001b[0m\u001b[0;34m\u001b[0m\u001b[0m\n",
      "\u001b[0;32m/opt/conda/lib/python3.7/site-packages/pyarrow/_fs.pyx\u001b[0m in \u001b[0;36mpyarrow._fs.FileSystem.open_output_stream\u001b[0;34m()\u001b[0m\n",
      "\u001b[0;32m/opt/conda/lib/python3.7/site-packages/pyarrow/error.pxi\u001b[0m in \u001b[0;36mpyarrow.lib.pyarrow_internal_check_status\u001b[0;34m()\u001b[0m\n",
      "\u001b[0;32m/opt/conda/lib/python3.7/site-packages/pyarrow/error.pxi\u001b[0m in \u001b[0;36mpyarrow.lib.check_status\u001b[0;34m()\u001b[0m\n",
      "\u001b[0;31mFileNotFoundError\u001b[0m: [Errno 2] Failed to open local file '/root/Foundation/Clean_Data/census_pop.parquet.gzip'. Detail: [errno 2] No such file or directory"
     ]
    }
   ],
   "source": [
    "clean_data_dir = root + clean\n",
    "\n",
    "pop_df.to_parquet(clean_data_dir + 'census_pop.parquet.gzip', compression='gzip', index=False)"
   ]
  },
  {
   "cell_type": "code",
   "execution_count": null,
   "metadata": {
    "id": "EMpm1FWN_xHO",
    "outputId": "85a594ab-59a0-40dd-9f78-194baff8cf31"
   },
   "outputs": [],
   "source": [
    "print('Population Data is READY TO ROCK!!!!')"
   ]
  },
  {
   "cell_type": "code",
   "execution_count": null,
   "metadata": {
    "id": "twI5IFPV_xHO"
   },
   "outputs": [],
   "source": [
    "import boto3\n",
    "import sagemaker\n",
    "\n",
    "# Sagemaker session\n",
    "sess = sagemaker.Session()\n",
    "\n",
    "# bucket = \"my-bucket\"\n",
    "bucket = sess.default_bucket()\n",
    "\n",
    "file_name = 'census_pop.parquet.gzip'\n",
    "file_path = 'Clean_Data/' + file_name\n",
    "\n",
    "# Upload flow to S3\n",
    "s3_client = boto3.client(\"s3\")\n",
    "s3_client.upload_file(clean_data_dir + file_name, bucket, file_path)"
   ]
  }
 ],
 "metadata": {
  "colab": {
   "collapsed_sections": [],
   "name": "Population_DataPrep.ipynb",
   "provenance": []
  },
  "instance_type": "ml.t3.medium",
  "kernelspec": {
   "display_name": "Python 3 (Data Science)",
   "language": "python",
   "name": "python3__SAGEMAKER_INTERNAL__arn:aws:sagemaker:us-east-1:081325390199:image/datascience-1.0"
  },
  "language_info": {
   "codemirror_mode": {
    "name": "ipython",
    "version": 3
   },
   "file_extension": ".py",
   "mimetype": "text/x-python",
   "name": "python",
   "nbconvert_exporter": "python",
   "pygments_lexer": "ipython3",
   "version": "3.7.10"
  }
 },
 "nbformat": 4,
 "nbformat_minor": 4
}
