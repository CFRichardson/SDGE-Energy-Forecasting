{
 "cells": [
  {
   "cell_type": "markdown",
   "metadata": {
    "id": "5e1SecfajUCz"
   },
   "source": [
    "# SDGE \n",
    "Data is from [Data Source](https://energydata.sdge.com/)"
   ]
  },
  {
   "cell_type": "code",
   "execution_count": 2,
   "metadata": {
    "id": "nDLrgdiqt_U6"
   },
   "outputs": [],
   "source": [
    "# Notebook ssetup\n",
    "import os\n",
    "import numpy as np\n",
    "import pandas as pd\n",
    "import re\n",
    "\n",
    "# directories\n",
    "clean = 'Clean_Data/'\n",
    "raw = 'Foundation/Raw Data/'\n",
    "root = '/root/'\n",
    "\n",
    "def concatenator(base_dir, folder):\n",
    "  ''' \n",
    "  Takes in file directory and specific folder name.\n",
    "  Returns all files in directory as a single pd.DF   \n",
    "  '''\n",
    "\n",
    "  files = os.listdir(base_dir + folder)\n",
    "\n",
    "  # append all files to\n",
    "  dfs = []\n",
    "\n",
    "  # loop over files in folder and append to dfs list\n",
    "  for file_ in files:\n",
    "    df = pd.read_csv(os.path.join(base_dir, folder, file_))\n",
    "    dfs.append(df)\n",
    "\n",
    "  return pd.concat(dfs, axis=0, ignore_index=True)\n"
   ]
  },
  {
   "cell_type": "markdown",
   "metadata": {},
   "source": [
    "# Zip Code Ground Truth\n",
    "San Diego COUNTY Zip Code list is from [sdcourt.ca.gov/sdcourt/familyandchildren2/wheretofile/zipcodedirectory](https://www.sdcourt.ca.gov/sdcourt/familyandchildren2/wheretofile/zipcodedirectory).\n",
    "\n",
    "<br><br>\n",
    "**Zip Code Ground Truth will be utilize to filter out any unnecessary Zip Codes from other Data Tables.**"
   ]
  },
  {
   "cell_type": "code",
   "execution_count": 3,
   "metadata": {},
   "outputs": [
    {
     "data": {
      "text/plain": [
       "0    91901.0\n",
       "1    91902.0\n",
       "2    91903.0\n",
       "Name: ZIP CODE, dtype: float64"
      ]
     },
     "execution_count": 3,
     "metadata": {},
     "output_type": "execute_result"
    }
   ],
   "source": [
    "# read in GROUND TRUTH\n",
    "file_path = root + raw + 'Other/' + 'Zip_Codes_by_Court_District_GROUND_TRUTH.csv'\n",
    "official_zip_code_df = pd.read_csv(file_path)\n",
    "official_zip_codes = official_zip_code_df['ZIP CODE']\n",
    "official_zip_codes[:3]"
   ]
  },
  {
   "cell_type": "markdown",
   "metadata": {
    "id": "HJCmYw1Zq7Ow"
   },
   "source": [
    "# Gas"
   ]
  },
  {
   "cell_type": "code",
   "execution_count": 4,
   "metadata": {},
   "outputs": [
    {
     "name": "stdout",
     "output_type": "stream",
     "text": [
      "Shape (29250, 8)\n",
      " ----------------------------------------\n"
     ]
    },
    {
     "data": {
      "text/html": [
       "<div>\n",
       "<style scoped>\n",
       "    .dataframe tbody tr th:only-of-type {\n",
       "        vertical-align: middle;\n",
       "    }\n",
       "\n",
       "    .dataframe tbody tr th {\n",
       "        vertical-align: top;\n",
       "    }\n",
       "\n",
       "    .dataframe thead th {\n",
       "        text-align: right;\n",
       "    }\n",
       "</style>\n",
       "<table border=\"1\" class=\"dataframe\">\n",
       "  <thead>\n",
       "    <tr style=\"text-align: right;\">\n",
       "      <th></th>\n",
       "      <th>ZipCode</th>\n",
       "      <th>Month</th>\n",
       "      <th>Year</th>\n",
       "      <th>CustomerClass</th>\n",
       "      <th>Combined</th>\n",
       "      <th>TotalCustomers</th>\n",
       "      <th>TotalTherms</th>\n",
       "      <th>AverageTherms</th>\n",
       "    </tr>\n",
       "  </thead>\n",
       "  <tbody>\n",
       "    <tr>\n",
       "      <th>0</th>\n",
       "      <td>91901</td>\n",
       "      <td>10</td>\n",
       "      <td>2019</td>\n",
       "      <td>C</td>\n",
       "      <td>Y</td>\n",
       "      <td>0</td>\n",
       "      <td>0</td>\n",
       "      <td>0</td>\n",
       "    </tr>\n",
       "    <tr>\n",
       "      <th>1</th>\n",
       "      <td>91901</td>\n",
       "      <td>10</td>\n",
       "      <td>2019</td>\n",
       "      <td>R</td>\n",
       "      <td>Y</td>\n",
       "      <td>2098</td>\n",
       "      <td>42738</td>\n",
       "      <td>20</td>\n",
       "    </tr>\n",
       "    <tr>\n",
       "      <th>2</th>\n",
       "      <td>91902</td>\n",
       "      <td>10</td>\n",
       "      <td>2019</td>\n",
       "      <td>C</td>\n",
       "      <td>Y</td>\n",
       "      <td>0</td>\n",
       "      <td>0</td>\n",
       "      <td>0</td>\n",
       "    </tr>\n",
       "  </tbody>\n",
       "</table>\n",
       "</div>"
      ],
      "text/plain": [
       "   ZipCode  Month  Year CustomerClass Combined  TotalCustomers  TotalTherms  \\\n",
       "0    91901     10  2019             C        Y               0            0   \n",
       "1    91901     10  2019             R        Y            2098        42738   \n",
       "2    91902     10  2019             C        Y               0            0   \n",
       "\n",
       "   AverageTherms  \n",
       "0              0  \n",
       "1             20  \n",
       "2              0  "
      ]
     },
     "execution_count": 4,
     "metadata": {},
     "output_type": "execute_result"
    }
   ],
   "source": [
    "base_sdge_dir = root + raw + 'SDGE/'\n",
    "folder = 'Gas'\n",
    "gas_df = concatenator(base_sdge_dir, folder)\n",
    "\n",
    "print(f'Shape {gas_df.shape}\\n', '--'*20)\n",
    "gas_df.head(3)"
   ]
  },
  {
   "cell_type": "code",
   "execution_count": 5,
   "metadata": {},
   "outputs": [
    {
     "data": {
      "text/plain": [
       "(28548, 8)"
      ]
     },
     "execution_count": 5,
     "metadata": {},
     "output_type": "execute_result"
    }
   ],
   "source": [
    "gas_df = gas_df[gas_df['ZipCode'].isin(official_zip_codes)].copy()\n",
    "gas_df.shape"
   ]
  },
  {
   "cell_type": "code",
   "execution_count": 6,
   "metadata": {},
   "outputs": [
    {
     "data": {
      "text/plain": [
       "(13867, 8)"
      ]
     },
     "execution_count": 6,
     "metadata": {},
     "output_type": "execute_result"
    }
   ],
   "source": [
    "# Drop Zip Codes/Rows with 0 Customers\n",
    "gas_df = gas_df[gas_df['TotalCustomers'] != 0]\n",
    "gas_df.shape"
   ]
  },
  {
   "cell_type": "code",
   "execution_count": 7,
   "metadata": {
    "colab": {
     "base_uri": "https://localhost:8080/",
     "height": 143
    },
    "id": "w_x6FzxPprAm",
    "outputId": "4364c4e0-cd0a-473d-b05a-59f75fd2b03f"
   },
   "outputs": [
    {
     "data": {
      "text/html": [
       "<div>\n",
       "<style scoped>\n",
       "    .dataframe tbody tr th:only-of-type {\n",
       "        vertical-align: middle;\n",
       "    }\n",
       "\n",
       "    .dataframe tbody tr th {\n",
       "        vertical-align: top;\n",
       "    }\n",
       "\n",
       "    .dataframe thead th {\n",
       "        text-align: right;\n",
       "    }\n",
       "</style>\n",
       "<table border=\"1\" class=\"dataframe\">\n",
       "  <thead>\n",
       "    <tr style=\"text-align: right;\">\n",
       "      <th></th>\n",
       "      <th>ZipCode</th>\n",
       "      <th>Year</th>\n",
       "      <th>Month</th>\n",
       "      <th>TotalCustomers</th>\n",
       "      <th>TotalTherms</th>\n",
       "      <th>AverageTherms</th>\n",
       "    </tr>\n",
       "  </thead>\n",
       "  <tbody>\n",
       "    <tr>\n",
       "      <th>0</th>\n",
       "      <td>91901</td>\n",
       "      <td>2012</td>\n",
       "      <td>1</td>\n",
       "      <td>2711</td>\n",
       "      <td>148354</td>\n",
       "      <td>292</td>\n",
       "    </tr>\n",
       "    <tr>\n",
       "      <th>1</th>\n",
       "      <td>91901</td>\n",
       "      <td>2012</td>\n",
       "      <td>2</td>\n",
       "      <td>2704</td>\n",
       "      <td>138102</td>\n",
       "      <td>283</td>\n",
       "    </tr>\n",
       "    <tr>\n",
       "      <th>2</th>\n",
       "      <td>91901</td>\n",
       "      <td>2012</td>\n",
       "      <td>3</td>\n",
       "      <td>2674</td>\n",
       "      <td>159852</td>\n",
       "      <td>309</td>\n",
       "    </tr>\n",
       "  </tbody>\n",
       "</table>\n",
       "</div>"
      ],
      "text/plain": [
       "   ZipCode  Year  Month  TotalCustomers  TotalTherms  AverageTherms\n",
       "0    91901  2012      1            2711       148354            292\n",
       "1    91901  2012      2            2704       138102            283\n",
       "2    91901  2012      3            2674       159852            309"
      ]
     },
     "execution_count": 7,
     "metadata": {},
     "output_type": "execute_result"
    }
   ],
   "source": [
    "# group by the following to combine commercial & residential consumers into 1 row\n",
    "gas_df = gas_df.groupby(['ZipCode', 'Year','Month']).sum()\n",
    "gas_df = gas_df.reset_index()\n",
    "gas_df.head(3)"
   ]
  },
  {
   "cell_type": "markdown",
   "metadata": {
    "id": "aoHrRigfq_4I"
   },
   "source": [
    "# Electric"
   ]
  },
  {
   "cell_type": "code",
   "execution_count": 8,
   "metadata": {},
   "outputs": [
    {
     "name": "stdout",
     "output_type": "stream",
     "text": [
      "Shape (68760, 8)\n",
      " ----------------------------------------\n"
     ]
    },
    {
     "data": {
      "text/html": [
       "<div>\n",
       "<style scoped>\n",
       "    .dataframe tbody tr th:only-of-type {\n",
       "        vertical-align: middle;\n",
       "    }\n",
       "\n",
       "    .dataframe tbody tr th {\n",
       "        vertical-align: top;\n",
       "    }\n",
       "\n",
       "    .dataframe thead th {\n",
       "        text-align: right;\n",
       "    }\n",
       "</style>\n",
       "<table border=\"1\" class=\"dataframe\">\n",
       "  <thead>\n",
       "    <tr style=\"text-align: right;\">\n",
       "      <th></th>\n",
       "      <th>ZipCode</th>\n",
       "      <th>Month</th>\n",
       "      <th>Year</th>\n",
       "      <th>CustomerClass</th>\n",
       "      <th>Combined</th>\n",
       "      <th>TotalCustomers</th>\n",
       "      <th>TotalkWh</th>\n",
       "      <th>AveragekWh</th>\n",
       "    </tr>\n",
       "  </thead>\n",
       "  <tbody>\n",
       "    <tr>\n",
       "      <th>0</th>\n",
       "      <td>91901</td>\n",
       "      <td>7</td>\n",
       "      <td>2014</td>\n",
       "      <td>A</td>\n",
       "      <td>Y</td>\n",
       "      <td>0</td>\n",
       "      <td>0</td>\n",
       "      <td>0</td>\n",
       "    </tr>\n",
       "    <tr>\n",
       "      <th>1</th>\n",
       "      <td>91901</td>\n",
       "      <td>7</td>\n",
       "      <td>2014</td>\n",
       "      <td>C</td>\n",
       "      <td>Y</td>\n",
       "      <td>775</td>\n",
       "      <td>3912545</td>\n",
       "      <td>5048</td>\n",
       "    </tr>\n",
       "    <tr>\n",
       "      <th>2</th>\n",
       "      <td>91901</td>\n",
       "      <td>7</td>\n",
       "      <td>2014</td>\n",
       "      <td>I</td>\n",
       "      <td>Y</td>\n",
       "      <td>0</td>\n",
       "      <td>0</td>\n",
       "      <td>0</td>\n",
       "    </tr>\n",
       "  </tbody>\n",
       "</table>\n",
       "</div>"
      ],
      "text/plain": [
       "   ZipCode  Month  Year CustomerClass Combined  TotalCustomers  TotalkWh  \\\n",
       "0    91901      7  2014             A        Y               0         0   \n",
       "1    91901      7  2014             C        Y             775   3912545   \n",
       "2    91901      7  2014             I        Y               0         0   \n",
       "\n",
       "   AveragekWh  \n",
       "0           0  \n",
       "1        5048  \n",
       "2           0  "
      ]
     },
     "execution_count": 8,
     "metadata": {},
     "output_type": "execute_result"
    }
   ],
   "source": [
    "base_sdge_dir = root + raw + 'SDGE/'\n",
    "folder = 'Electric'\n",
    "elect_df = concatenator(base_sdge_dir, folder)\n",
    "\n",
    "print(f'Shape {elect_df.shape}\\n', '--'*20)\n",
    "\n",
    "elect_df.head(3)"
   ]
  },
  {
   "cell_type": "code",
   "execution_count": 9,
   "metadata": {},
   "outputs": [
    {
     "data": {
      "text/plain": [
       "(58560, 8)"
      ]
     },
     "execution_count": 9,
     "metadata": {},
     "output_type": "execute_result"
    }
   ],
   "source": [
    "elect_df = elect_df[elect_df['ZipCode'].isin(official_zip_codes)].copy()\n",
    "elect_df.shape"
   ]
  },
  {
   "cell_type": "code",
   "execution_count": 10,
   "metadata": {},
   "outputs": [
    {
     "data": {
      "text/plain": [
       "(19111, 8)"
      ]
     },
     "execution_count": 10,
     "metadata": {},
     "output_type": "execute_result"
    }
   ],
   "source": [
    "# Drop Zip Codes/Rows with 0 Customers\n",
    "elect_df = elect_df.loc[elect_df['TotalCustomers'] != 0]\n",
    "elect_df.shape"
   ]
  },
  {
   "cell_type": "code",
   "execution_count": 11,
   "metadata": {
    "colab": {
     "base_uri": "https://localhost:8080/",
     "height": 143
    },
    "id": "So2typQNrLWO",
    "outputId": "71138732-70a1-4e11-bac8-c58b3eb82a93"
   },
   "outputs": [
    {
     "data": {
      "text/html": [
       "<div>\n",
       "<style scoped>\n",
       "    .dataframe tbody tr th:only-of-type {\n",
       "        vertical-align: middle;\n",
       "    }\n",
       "\n",
       "    .dataframe tbody tr th {\n",
       "        vertical-align: top;\n",
       "    }\n",
       "\n",
       "    .dataframe thead th {\n",
       "        text-align: right;\n",
       "    }\n",
       "</style>\n",
       "<table border=\"1\" class=\"dataframe\">\n",
       "  <thead>\n",
       "    <tr style=\"text-align: right;\">\n",
       "      <th></th>\n",
       "      <th>ZipCode</th>\n",
       "      <th>Year</th>\n",
       "      <th>Month</th>\n",
       "      <th>TotalCustomers</th>\n",
       "      <th>TotalkWh</th>\n",
       "      <th>AveragekWh</th>\n",
       "    </tr>\n",
       "  </thead>\n",
       "  <tbody>\n",
       "    <tr>\n",
       "      <th>0</th>\n",
       "      <td>91901</td>\n",
       "      <td>2012</td>\n",
       "      <td>1</td>\n",
       "      <td>595</td>\n",
       "      <td>178335</td>\n",
       "      <td>603</td>\n",
       "    </tr>\n",
       "    <tr>\n",
       "      <th>1</th>\n",
       "      <td>91901</td>\n",
       "      <td>2012</td>\n",
       "      <td>2</td>\n",
       "      <td>736</td>\n",
       "      <td>572185</td>\n",
       "      <td>1555</td>\n",
       "    </tr>\n",
       "    <tr>\n",
       "      <th>2</th>\n",
       "      <td>91901</td>\n",
       "      <td>2012</td>\n",
       "      <td>3</td>\n",
       "      <td>1866</td>\n",
       "      <td>1180728</td>\n",
       "      <td>1776</td>\n",
       "    </tr>\n",
       "  </tbody>\n",
       "</table>\n",
       "</div>"
      ],
      "text/plain": [
       "   ZipCode  Year  Month  TotalCustomers  TotalkWh  AveragekWh\n",
       "0    91901  2012      1             595    178335         603\n",
       "1    91901  2012      2             736    572185        1555\n",
       "2    91901  2012      3            1866   1180728        1776"
      ]
     },
     "execution_count": 11,
     "metadata": {},
     "output_type": "execute_result"
    }
   ],
   "source": [
    "# group by the following to combine commercial & residential consumers into 1 row\n",
    "elect_df = elect_df.groupby(['ZipCode', 'Year','Month']).sum()\n",
    "elect_df = elect_df.reset_index()\n",
    "elect_df.head(3)"
   ]
  },
  {
   "cell_type": "markdown",
   "metadata": {},
   "source": [
    "# Merge Gas & Electric"
   ]
  },
  {
   "cell_type": "code",
   "execution_count": 12,
   "metadata": {
    "colab": {
     "base_uri": "https://localhost:8080/",
     "height": 207
    },
    "id": "xzQ4wIberXS8",
    "outputId": "ba2137f9-40e2-423b-d28f-db0f3ea9109c"
   },
   "outputs": [
    {
     "data": {
      "text/html": [
       "<div>\n",
       "<style scoped>\n",
       "    .dataframe tbody tr th:only-of-type {\n",
       "        vertical-align: middle;\n",
       "    }\n",
       "\n",
       "    .dataframe tbody tr th {\n",
       "        vertical-align: top;\n",
       "    }\n",
       "\n",
       "    .dataframe thead th {\n",
       "        text-align: right;\n",
       "    }\n",
       "</style>\n",
       "<table border=\"1\" class=\"dataframe\">\n",
       "  <thead>\n",
       "    <tr style=\"text-align: right;\">\n",
       "      <th></th>\n",
       "      <th>ZipCode</th>\n",
       "      <th>Year</th>\n",
       "      <th>Month</th>\n",
       "      <th>TotalCustomers_gas</th>\n",
       "      <th>TotalTherms</th>\n",
       "      <th>AverageTherms</th>\n",
       "      <th>TotalCustomers_elect</th>\n",
       "      <th>TotalkWh</th>\n",
       "      <th>AveragekWh</th>\n",
       "    </tr>\n",
       "  </thead>\n",
       "  <tbody>\n",
       "    <tr>\n",
       "      <th>0</th>\n",
       "      <td>91901</td>\n",
       "      <td>2012</td>\n",
       "      <td>1</td>\n",
       "      <td>2711</td>\n",
       "      <td>148354</td>\n",
       "      <td>292</td>\n",
       "      <td>595</td>\n",
       "      <td>178335</td>\n",
       "      <td>603</td>\n",
       "    </tr>\n",
       "    <tr>\n",
       "      <th>1</th>\n",
       "      <td>91901</td>\n",
       "      <td>2012</td>\n",
       "      <td>2</td>\n",
       "      <td>2704</td>\n",
       "      <td>138102</td>\n",
       "      <td>283</td>\n",
       "      <td>736</td>\n",
       "      <td>572185</td>\n",
       "      <td>1555</td>\n",
       "    </tr>\n",
       "    <tr>\n",
       "      <th>2</th>\n",
       "      <td>91901</td>\n",
       "      <td>2012</td>\n",
       "      <td>3</td>\n",
       "      <td>2674</td>\n",
       "      <td>159852</td>\n",
       "      <td>309</td>\n",
       "      <td>1866</td>\n",
       "      <td>1180728</td>\n",
       "      <td>1776</td>\n",
       "    </tr>\n",
       "  </tbody>\n",
       "</table>\n",
       "</div>"
      ],
      "text/plain": [
       "   ZipCode  Year  Month  TotalCustomers_gas  TotalTherms  AverageTherms  \\\n",
       "0    91901  2012      1                2711       148354            292   \n",
       "1    91901  2012      2                2704       138102            283   \n",
       "2    91901  2012      3                2674       159852            309   \n",
       "\n",
       "   TotalCustomers_elect  TotalkWh  AveragekWh  \n",
       "0                   595    178335         603  \n",
       "1                   736    572185        1555  \n",
       "2                  1866   1180728        1776  "
      ]
     },
     "execution_count": 12,
     "metadata": {},
     "output_type": "execute_result"
    }
   ],
   "source": [
    "sdge_df = pd.merge(gas_df, elect_df, on=['ZipCode', 'Year', 'Month'], suffixes=('_gas','_elect'))\n",
    "sdge_df.head(3)"
   ]
  },
  {
   "cell_type": "code",
   "execution_count": 13,
   "metadata": {
    "colab": {
     "base_uri": "https://localhost:8080/"
    },
    "id": "iugac8WysZmC",
    "outputId": "543b9963-cf51-4d6c-a3e7-b9a007cf941d"
   },
   "outputs": [
    {
     "data": {
      "text/plain": [
       "(9420, 9)"
      ]
     },
     "execution_count": 13,
     "metadata": {},
     "output_type": "execute_result"
    }
   ],
   "source": [
    "sdge_df.shape"
   ]
  },
  {
   "cell_type": "code",
   "execution_count": 14,
   "metadata": {
    "id": "NU04cef1rbHN"
   },
   "outputs": [],
   "source": [
    "clean_data_dir = root + clean\n",
    "\n",
    "sdge_df.to_parquet(clean_data_dir + 'sdge.parquet.gzip', compression='gzip', index=False)"
   ]
  },
  {
   "cell_type": "code",
   "execution_count": 15,
   "metadata": {
    "id": "6srl9wK2stRF"
   },
   "outputs": [
    {
     "name": "stdout",
     "output_type": "stream",
     "text": [
      "SDGE Data is READY TO ROCK!!!!\n"
     ]
    }
   ],
   "source": [
    "print('SDGE Data is READY TO ROCK!!!!')"
   ]
  },
  {
   "cell_type": "code",
   "execution_count": 16,
   "metadata": {},
   "outputs": [],
   "source": [
    "import boto3\n",
    "import sagemaker\n",
    "\n",
    "# Sagemaker session\n",
    "sess = sagemaker.Session()\n",
    "\n",
    "# bucket = \"my-bucket\"\n",
    "bucket = sess.default_bucket()\n",
    "\n",
    "file_name = 'sdge.parquet.gzip'\n",
    "file_path = 'Clean_Data/' + file_name\n",
    "\n",
    "# Upload flow to S3\n",
    "s3_client = boto3.client(\"s3\")\n",
    "s3_client.upload_file(clean_data_dir + file_name, bucket, file_path)"
   ]
  }
 ],
 "metadata": {
  "colab": {
   "collapsed_sections": [],
   "name": "SDGE_DataPrep",
   "provenance": []
  },
  "instance_type": "ml.t3.medium",
  "kernelspec": {
   "display_name": "Python 3 (Data Science)",
   "language": "python",
   "name": "python3__SAGEMAKER_INTERNAL__arn:aws:sagemaker:us-east-1:081325390199:image/datascience-1.0"
  },
  "language_info": {
   "codemirror_mode": {
    "name": "ipython",
    "version": 3
   },
   "file_extension": ".py",
   "mimetype": "text/x-python",
   "name": "python",
   "nbconvert_exporter": "python",
   "pygments_lexer": "ipython3",
   "version": "3.7.10"
  }
 },
 "nbformat": 4,
 "nbformat_minor": 4
}
