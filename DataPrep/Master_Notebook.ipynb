{
 "cells": [
  {
   "cell_type": "code",
   "execution_count": 5,
   "metadata": {},
   "outputs": [
    {
     "name": "stdout",
     "output_type": "stream",
     "text": [
      "Zip     object\n",
      "Est     object\n",
      "MOE     object\n",
      "Year    object\n",
      "dtype: object \n",
      "\n",
      "Zip     object\n",
      "Est     object\n",
      "MOE     object\n",
      "Year    object\n",
      "dtype: object \n",
      "\n",
      "Population Data is READY TO ROCK!!!!\n",
      "Shape (29250, 8)\n",
      " ----------------------------------------\n",
      "Shape (68760, 8)\n",
      " ----------------------------------------\n",
      "SDGE Data is READY TO ROCK!!!!\n",
      "There are 7 within the weather dataset. They are:\n"
     ]
    },
    {
     "name": "stderr",
     "output_type": "stream",
     "text": [
      "/root/DataPrep/Weather_DataPrep.ipynb:1: FutureWarning: Treating datetime data as categorical rather than numeric in `.describe` is deprecated and will be removed in a future version of pandas. Specify `datetime_is_numeric=True` to silence this warning and adopt the future behavior now.\n",
      "  {\n"
     ]
    },
    {
     "name": "stdout",
     "output_type": "stream",
     "text": [
      "Weather Data is READY TO ROCK!!!!\n",
      "All Data is ready to rock!\n"
     ]
    }
   ],
   "source": [
    "%run /root/DataPrep/Population_DataPrep.ipynb\n",
    "%run /root/DataPrep/SDGE_DataPrep.ipynb\n",
    "%run /root/DataPrep/Weather_DataPrep.ipynb\n",
    "\n",
    "print('--'*30)\n",
    "print('All Data is ready to rock!')"
   ]
  },
  {
   "cell_type": "code",
   "execution_count": null,
   "metadata": {},
   "outputs": [],
   "source": []
  }
 ],
 "metadata": {
  "instance_type": "ml.t3.medium",
  "kernelspec": {
   "display_name": "Python 3 (Data Science)",
   "language": "python",
   "name": "python3__SAGEMAKER_INTERNAL__arn:aws:sagemaker:us-east-1:081325390199:image/datascience-1.0"
  },
  "language_info": {
   "codemirror_mode": {
    "name": "ipython",
    "version": 3
   },
   "file_extension": ".py",
   "mimetype": "text/x-python",
   "name": "python",
   "nbconvert_exporter": "python",
   "pygments_lexer": "ipython3",
   "version": "3.7.10"
  }
 },
 "nbformat": 4,
 "nbformat_minor": 4
}
