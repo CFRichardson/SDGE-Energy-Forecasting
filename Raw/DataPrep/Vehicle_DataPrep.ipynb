{
 "cells": [
  {
   "cell_type": "code",
   "execution_count": 2,
   "metadata": {
    "executionInfo": {
     "elapsed": 448,
     "status": "ok",
     "timestamp": 1649202780752,
     "user": {
      "displayName": "Christopher Richardson",
      "userId": "09766026346975996839"
     },
     "user_tz": 420
    },
    "id": "Pm7hYsAKJNEV"
   },
   "outputs": [],
   "source": [
    "# Notebook ssetup\n",
    "import os\n",
    "import numpy as np\n",
    "import pandas as pd\n",
    "import re\n",
    "\n",
    "# directories\n",
    "clean = 'Clean_Data/'\n",
    "raw = 'Foundation/Raw Data/'\n",
    "root = '/root/'"
   ]
  },
  {
   "cell_type": "markdown",
   "metadata": {},
   "source": [
    "# Zip Code Ground Truth"
   ]
  },
  {
   "cell_type": "code",
   "execution_count": 3,
   "metadata": {},
   "outputs": [
    {
     "data": {
      "text/plain": [
       "0    91901.0\n",
       "1    91902.0\n",
       "2    91903.0\n",
       "Name: ZIP CODE, dtype: float64"
      ]
     },
     "execution_count": 3,
     "metadata": {},
     "output_type": "execute_result"
    }
   ],
   "source": [
    "# read in GROUND TRUTH\n",
    "file_path = root + raw + 'Other/' + 'Zip_Codes_by_Court_District_GROUND_TRUTH.csv'\n",
    "official_zip_code_df = pd.read_csv(file_path)\n",
    "official_zip_codes = official_zip_code_df['ZIP CODE']\n",
    "official_zip_codes[:3]"
   ]
  },
  {
   "cell_type": "markdown",
   "metadata": {},
   "source": [
    "# Vehicle DataPrep"
   ]
  },
  {
   "cell_type": "code",
   "execution_count": 4,
   "metadata": {
    "colab": {
     "base_uri": "https://localhost:8080/",
     "height": 179
    },
    "executionInfo": {
     "elapsed": 14654,
     "status": "ok",
     "timestamp": 1649202864287,
     "user": {
      "displayName": "Christopher Richardson",
      "userId": "09766026346975996839"
     },
     "user_tz": 420
    },
    "id": "kYLEeBkFJNEc",
    "outputId": "fbff15ef-0e3a-42e9-b86d-235a085d57b1"
   },
   "outputs": [
    {
     "name": "stdout",
     "output_type": "stream",
     "text": [
      "Shape (175291, 4)\n",
      " ----------------------------------------\n"
     ]
    },
    {
     "data": {
      "text/html": [
       "<div>\n",
       "<style scoped>\n",
       "    .dataframe tbody tr th:only-of-type {\n",
       "        vertical-align: middle;\n",
       "    }\n",
       "\n",
       "    .dataframe tbody tr th {\n",
       "        vertical-align: top;\n",
       "    }\n",
       "\n",
       "    .dataframe thead th {\n",
       "        text-align: right;\n",
       "    }\n",
       "</style>\n",
       "<table border=\"1\" class=\"dataframe\">\n",
       "  <thead>\n",
       "    <tr style=\"text-align: right;\">\n",
       "      <th></th>\n",
       "      <th>Data Year</th>\n",
       "      <th>Fuel Type</th>\n",
       "      <th>ZIP</th>\n",
       "      <th>Number of Vehicles</th>\n",
       "    </tr>\n",
       "  </thead>\n",
       "  <tbody>\n",
       "    <tr>\n",
       "      <th>0</th>\n",
       "      <td>2010</td>\n",
       "      <td>Bio Diesel</td>\n",
       "      <td>90010</td>\n",
       "      <td>3</td>\n",
       "    </tr>\n",
       "    <tr>\n",
       "      <th>1</th>\n",
       "      <td>2010</td>\n",
       "      <td>Bio Diesel</td>\n",
       "      <td>90019</td>\n",
       "      <td>1</td>\n",
       "    </tr>\n",
       "    <tr>\n",
       "      <th>2</th>\n",
       "      <td>2010</td>\n",
       "      <td>Bio Diesel</td>\n",
       "      <td>90047</td>\n",
       "      <td>1</td>\n",
       "    </tr>\n",
       "  </tbody>\n",
       "</table>\n",
       "</div>"
      ],
      "text/plain": [
       "   Data Year   Fuel Type    ZIP  Number of Vehicles\n",
       "0       2010  Bio Diesel  90010                   3\n",
       "1       2010  Bio Diesel  90019                   1\n",
       "2       2010  Bio Diesel  90047                   1"
      ]
     },
     "execution_count": 4,
     "metadata": {},
     "output_type": "execute_result"
    }
   ],
   "source": [
    "file_path = root + 'Foundation/Raw Data/Other/Vehicle Population.xlsx'\n",
    "veh_df = pd.read_excel(file_path,\n",
    "                       sheet_name='ZIP')\n",
    "\n",
    "# print shape\n",
    "print(f'Shape {veh_df.shape}\\n', '--'*20)\n",
    "\n",
    "veh_df.head(3)"
   ]
  },
  {
   "cell_type": "code",
   "execution_count": 5,
   "metadata": {
    "executionInfo": {
     "elapsed": 186,
     "status": "ok",
     "timestamp": 1649203058656,
     "user": {
      "displayName": "Christopher Richardson",
      "userId": "09766026346975996839"
     },
     "user_tz": 420
    },
    "id": "wXiUR7BsJNEd"
   },
   "outputs": [],
   "source": [
    "veh_df.rename(columns={'Data Year':'Year',\n",
    "                        'Fuel Type':'Fuel',\n",
    "                        'Number of Vehicles':'#_vehicles'},\n",
    "              inplace=True)"
   ]
  },
  {
   "cell_type": "markdown",
   "metadata": {},
   "source": [
    "#### Remove unwanted zip codes"
   ]
  },
  {
   "cell_type": "code",
   "execution_count": 6,
   "metadata": {
    "colab": {
     "base_uri": "https://localhost:8080/",
     "height": 49
    },
    "executionInfo": {
     "elapsed": 12,
     "status": "ok",
     "timestamp": 1649203059780,
     "user": {
      "displayName": "Christopher Richardson",
      "userId": "09766026346975996839"
     },
     "user_tz": 420
    },
    "id": "aPVLUmwLJNEe",
    "outputId": "01ecb631-f1be-44cb-d994-c9981f535cd7"
   },
   "outputs": [
    {
     "data": {
      "text/html": [
       "<div>\n",
       "<style scoped>\n",
       "    .dataframe tbody tr th:only-of-type {\n",
       "        vertical-align: middle;\n",
       "    }\n",
       "\n",
       "    .dataframe tbody tr th {\n",
       "        vertical-align: top;\n",
       "    }\n",
       "\n",
       "    .dataframe thead th {\n",
       "        text-align: right;\n",
       "    }\n",
       "</style>\n",
       "<table border=\"1\" class=\"dataframe\">\n",
       "  <thead>\n",
       "    <tr style=\"text-align: right;\">\n",
       "      <th></th>\n",
       "      <th>Year</th>\n",
       "      <th>Fuel</th>\n",
       "      <th>ZIP</th>\n",
       "      <th>#_vehicles</th>\n",
       "    </tr>\n",
       "  </thead>\n",
       "  <tbody>\n",
       "  </tbody>\n",
       "</table>\n",
       "</div>"
      ],
      "text/plain": [
       "Empty DataFrame\n",
       "Columns: [Year, Fuel, ZIP, #_vehicles]\n",
       "Index: []"
      ]
     },
     "execution_count": 6,
     "metadata": {},
     "output_type": "execute_result"
    }
   ],
   "source": [
    "veh_df[veh_df['#_vehicles'] == 0]"
   ]
  },
  {
   "cell_type": "code",
   "execution_count": 7,
   "metadata": {},
   "outputs": [
    {
     "data": {
      "text/plain": [
       "(175291, 4)"
      ]
     },
     "execution_count": 7,
     "metadata": {},
     "output_type": "execute_result"
    }
   ],
   "source": [
    "veh_df.shape"
   ]
  },
  {
   "cell_type": "code",
   "execution_count": 8,
   "metadata": {},
   "outputs": [
    {
     "data": {
      "text/plain": [
       "(12744, 4)"
      ]
     },
     "execution_count": 8,
     "metadata": {},
     "output_type": "execute_result"
    }
   ],
   "source": [
    "veh_df = veh_df[veh_df['ZIP'].isin(official_zip_codes)].copy()\n",
    "veh_df.shape"
   ]
  },
  {
   "cell_type": "markdown",
   "metadata": {},
   "source": [
    "# Melt Dataframe"
   ]
  },
  {
   "cell_type": "code",
   "execution_count": 9,
   "metadata": {
    "colab": {
     "base_uri": "https://localhost:8080/"
    },
    "executionInfo": {
     "elapsed": 137499,
     "status": "ok",
     "timestamp": 1649203305654,
     "user": {
      "displayName": "Christopher Richardson",
      "userId": "09766026346975996839"
     },
     "user_tz": 420
    },
    "id": "WGVUK9d2JNEf",
    "outputId": "24072fd0-9490-4774-f629-5ef61675f028"
   },
   "outputs": [
    {
     "name": "stdout",
     "output_type": "stream",
     "text": [
      "Processesing 2010 \n",
      "\n",
      "Processesing 2011 \n",
      "\n",
      "Processesing 2012 \n",
      "\n",
      "Processesing 2013 \n",
      "\n",
      "Processesing 2014 \n",
      "\n",
      "Processesing 2015 \n",
      "\n",
      "Processesing 2016 \n",
      "\n",
      "Processesing 2017 \n",
      "\n",
      "Processesing 2018 \n",
      "\n",
      "Processesing 2019 \n",
      "\n",
      "Processesing 2020 \n",
      "\n"
     ]
    },
    {
     "data": {
      "text/html": [
       "<div>\n",
       "<style scoped>\n",
       "    .dataframe tbody tr th:only-of-type {\n",
       "        vertical-align: middle;\n",
       "    }\n",
       "\n",
       "    .dataframe tbody tr th {\n",
       "        vertical-align: top;\n",
       "    }\n",
       "\n",
       "    .dataframe thead th {\n",
       "        text-align: right;\n",
       "    }\n",
       "</style>\n",
       "<table border=\"1\" class=\"dataframe\">\n",
       "  <thead>\n",
       "    <tr style=\"text-align: right;\">\n",
       "      <th></th>\n",
       "      <th>Diesel</th>\n",
       "      <th>Flex Fuel</th>\n",
       "      <th>Gasoline</th>\n",
       "      <th>Gasoline Hybrid</th>\n",
       "      <th>Year</th>\n",
       "      <th>ZIP</th>\n",
       "      <th>Natural Gas</th>\n",
       "      <th>Bio Diesel</th>\n",
       "      <th>Propane</th>\n",
       "      <th>Electric</th>\n",
       "      <th>PHEV</th>\n",
       "      <th>Hydrogen</th>\n",
       "    </tr>\n",
       "  </thead>\n",
       "  <tbody>\n",
       "    <tr>\n",
       "      <th>1</th>\n",
       "      <td>7</td>\n",
       "      <td>7</td>\n",
       "      <td>293</td>\n",
       "      <td>8</td>\n",
       "      <td>2010</td>\n",
       "      <td>92160</td>\n",
       "      <td>NaN</td>\n",
       "      <td>NaN</td>\n",
       "      <td>NaN</td>\n",
       "      <td>NaN</td>\n",
       "      <td>NaN</td>\n",
       "      <td>NaN</td>\n",
       "    </tr>\n",
       "    <tr>\n",
       "      <th>1</th>\n",
       "      <td>NaN</td>\n",
       "      <td>NaN</td>\n",
       "      <td>4</td>\n",
       "      <td>NaN</td>\n",
       "      <td>2010</td>\n",
       "      <td>92161</td>\n",
       "      <td>NaN</td>\n",
       "      <td>NaN</td>\n",
       "      <td>NaN</td>\n",
       "      <td>NaN</td>\n",
       "      <td>NaN</td>\n",
       "      <td>NaN</td>\n",
       "    </tr>\n",
       "    <tr>\n",
       "      <th>1</th>\n",
       "      <td>5</td>\n",
       "      <td>4</td>\n",
       "      <td>184</td>\n",
       "      <td>2</td>\n",
       "      <td>2010</td>\n",
       "      <td>92162</td>\n",
       "      <td>NaN</td>\n",
       "      <td>NaN</td>\n",
       "      <td>NaN</td>\n",
       "      <td>NaN</td>\n",
       "      <td>NaN</td>\n",
       "      <td>NaN</td>\n",
       "    </tr>\n",
       "  </tbody>\n",
       "</table>\n",
       "</div>"
      ],
      "text/plain": [
       "  Diesel Flex Fuel Gasoline Gasoline Hybrid  Year    ZIP Natural Gas  \\\n",
       "1      7         7      293               8  2010  92160         NaN   \n",
       "1    NaN       NaN        4             NaN  2010  92161         NaN   \n",
       "1      5         4      184               2  2010  92162         NaN   \n",
       "\n",
       "  Bio Diesel Propane Electric PHEV Hydrogen   \n",
       "1        NaN     NaN      NaN  NaN       NaN  \n",
       "1        NaN     NaN      NaN  NaN       NaN  \n",
       "1        NaN     NaN      NaN  NaN       NaN  "
      ]
     },
     "execution_count": 9,
     "metadata": {},
     "output_type": "execute_result"
    }
   ],
   "source": [
    "years = sorted(set(veh_df['Year']))\n",
    "\n",
    "dfs = []\n",
    "for year in years:\n",
    "    print(f'Processesing {year}', '\\n')\n",
    "\n",
    "    year_df = veh_df.loc[veh_df['Year'] == year]\n",
    "\n",
    "    zip_codes = set(year_df['ZIP'])\n",
    "\n",
    "    for zip_code in zip_codes:\n",
    "\n",
    "        mutate_df = year_df.loc[year_df['ZIP'] == zip_code, ['Fuel', '#_vehicles']]\n",
    "\n",
    "        indexes = list(mutate_df.T.iloc[0,:])\n",
    "\n",
    "        mutate_df.index = pd.Index(indexes,name='Fuel')\n",
    "\n",
    "        mutate_df = mutate_df.T.reset_index(drop=True)\n",
    "\n",
    "        mutate_df['Year'] = year\n",
    "        mutate_df['ZIP'] = zip_code\n",
    "\n",
    "        dfs.append(pd.DataFrame(mutate_df.iloc[1,:]).T)\n",
    "\n",
    "final_df = pd.concat(dfs)\n",
    "final_df.head(3)"
   ]
  },
  {
   "cell_type": "markdown",
   "metadata": {
    "id": "2PQ0kqSTOWPx"
   },
   "source": [
    "Index is labeld as \"FUEL\".  This will be omitted when DataFrame is written to CSV/Parquet."
   ]
  },
  {
   "cell_type": "code",
   "execution_count": 10,
   "metadata": {
    "executionInfo": {
     "elapsed": 203,
     "status": "ok",
     "timestamp": 1649204791563,
     "user": {
      "displayName": "Christopher Richardson",
      "userId": "09766026346975996839"
     },
     "user_tz": 420
    },
    "id": "42lrhZqgJNEl"
   },
   "outputs": [
    {
     "data": {
      "text/html": [
       "<div>\n",
       "<style scoped>\n",
       "    .dataframe tbody tr th:only-of-type {\n",
       "        vertical-align: middle;\n",
       "    }\n",
       "\n",
       "    .dataframe tbody tr th {\n",
       "        vertical-align: top;\n",
       "    }\n",
       "\n",
       "    .dataframe thead th {\n",
       "        text-align: right;\n",
       "    }\n",
       "</style>\n",
       "<table border=\"1\" class=\"dataframe\">\n",
       "  <thead>\n",
       "    <tr style=\"text-align: right;\">\n",
       "      <th></th>\n",
       "      <th>Diesel</th>\n",
       "      <th>Flex Fuel</th>\n",
       "      <th>Gasoline</th>\n",
       "      <th>Gasoline Hybrid</th>\n",
       "      <th>Year</th>\n",
       "      <th>ZIP</th>\n",
       "      <th>Natural Gas</th>\n",
       "      <th>Bio Diesel</th>\n",
       "      <th>Propane</th>\n",
       "      <th>Electric</th>\n",
       "      <th>PHEV</th>\n",
       "      <th>Hydrogen</th>\n",
       "    </tr>\n",
       "  </thead>\n",
       "  <tbody>\n",
       "    <tr>\n",
       "      <th>1</th>\n",
       "      <td>7</td>\n",
       "      <td>7</td>\n",
       "      <td>293</td>\n",
       "      <td>8</td>\n",
       "      <td>2010</td>\n",
       "      <td>92160</td>\n",
       "      <td>0</td>\n",
       "      <td>0</td>\n",
       "      <td>0</td>\n",
       "      <td>0</td>\n",
       "      <td>0</td>\n",
       "      <td>0</td>\n",
       "    </tr>\n",
       "    <tr>\n",
       "      <th>1</th>\n",
       "      <td>0</td>\n",
       "      <td>0</td>\n",
       "      <td>4</td>\n",
       "      <td>0</td>\n",
       "      <td>2010</td>\n",
       "      <td>92161</td>\n",
       "      <td>0</td>\n",
       "      <td>0</td>\n",
       "      <td>0</td>\n",
       "      <td>0</td>\n",
       "      <td>0</td>\n",
       "      <td>0</td>\n",
       "    </tr>\n",
       "    <tr>\n",
       "      <th>1</th>\n",
       "      <td>5</td>\n",
       "      <td>4</td>\n",
       "      <td>184</td>\n",
       "      <td>2</td>\n",
       "      <td>2010</td>\n",
       "      <td>92162</td>\n",
       "      <td>0</td>\n",
       "      <td>0</td>\n",
       "      <td>0</td>\n",
       "      <td>0</td>\n",
       "      <td>0</td>\n",
       "      <td>0</td>\n",
       "    </tr>\n",
       "  </tbody>\n",
       "</table>\n",
       "</div>"
      ],
      "text/plain": [
       "   Diesel  Flex Fuel  Gasoline  Gasoline Hybrid  Year    ZIP  Natural Gas  \\\n",
       "1       7          7       293                8  2010  92160            0   \n",
       "1       0          0         4                0  2010  92161            0   \n",
       "1       5          4       184                2  2010  92162            0   \n",
       "\n",
       "   Bio Diesel  Propane  Electric  PHEV  Hydrogen   \n",
       "1           0        0         0     0          0  \n",
       "1           0        0         0     0          0  \n",
       "1           0        0         0     0          0  "
      ]
     },
     "execution_count": 10,
     "metadata": {},
     "output_type": "execute_result"
    }
   ],
   "source": [
    "final_df = final_df.fillna(0)\n",
    "final_df.head(3)"
   ]
  },
  {
   "cell_type": "markdown",
   "metadata": {},
   "source": [
    "#### Fix Hydrogen column name\n",
    "Hydrogen column name has an extra space at the end!"
   ]
  },
  {
   "cell_type": "code",
   "execution_count": 11,
   "metadata": {},
   "outputs": [
    {
     "data": {
      "text/plain": [
       "Index(['Diesel', 'Flex Fuel', 'Gasoline', 'Gasoline Hybrid', 'Year', 'ZIP',\n",
       "       'Natural Gas', 'Bio Diesel', 'Propane', 'Electric', 'PHEV', 'Hydrogen'],\n",
       "      dtype='object')"
      ]
     },
     "execution_count": 11,
     "metadata": {},
     "output_type": "execute_result"
    }
   ],
   "source": [
    "final_df = final_df.rename(columns={'Hydrogen ':'Hydrogen'})\n",
    "final_df.columns"
   ]
  },
  {
   "cell_type": "markdown",
   "metadata": {},
   "source": [
    "## Interpolate for dates missing\n",
    "Utilizing Linear Padding"
   ]
  },
  {
   "cell_type": "code",
   "execution_count": null,
   "metadata": {},
   "outputs": [],
   "source": [
    "final_df.loc[final_df['ZIP'] == 92090].sort_values('Year')"
   ]
  },
  {
   "cell_type": "code",
   "execution_count": 12,
   "metadata": {},
   "outputs": [
    {
     "data": {
      "text/html": [
       "<div>\n",
       "<style scoped>\n",
       "    .dataframe tbody tr th:only-of-type {\n",
       "        vertical-align: middle;\n",
       "    }\n",
       "\n",
       "    .dataframe tbody tr th {\n",
       "        vertical-align: top;\n",
       "    }\n",
       "\n",
       "    .dataframe thead th {\n",
       "        text-align: right;\n",
       "    }\n",
       "</style>\n",
       "<table border=\"1\" class=\"dataframe\">\n",
       "  <thead>\n",
       "    <tr style=\"text-align: right;\">\n",
       "      <th></th>\n",
       "      <th>Diesel</th>\n",
       "      <th>Flex Fuel</th>\n",
       "      <th>Gasoline</th>\n",
       "      <th>Gasoline Hybrid</th>\n",
       "      <th>Year</th>\n",
       "      <th>ZIP</th>\n",
       "      <th>Natural Gas</th>\n",
       "      <th>Bio Diesel</th>\n",
       "      <th>Propane</th>\n",
       "      <th>Electric</th>\n",
       "      <th>PHEV</th>\n",
       "      <th>Hydrogen</th>\n",
       "    </tr>\n",
       "  </thead>\n",
       "  <tbody>\n",
       "    <tr>\n",
       "      <th>0</th>\n",
       "      <td>7.0</td>\n",
       "      <td>7.0</td>\n",
       "      <td>293.0</td>\n",
       "      <td>8.0</td>\n",
       "      <td>2010</td>\n",
       "      <td>92160</td>\n",
       "      <td>0.0</td>\n",
       "      <td>0.0</td>\n",
       "      <td>0.0</td>\n",
       "      <td>0.0</td>\n",
       "      <td>0.0</td>\n",
       "      <td>0.0</td>\n",
       "    </tr>\n",
       "    <tr>\n",
       "      <th>1</th>\n",
       "      <td>8.0</td>\n",
       "      <td>9.0</td>\n",
       "      <td>305.0</td>\n",
       "      <td>7.0</td>\n",
       "      <td>2011</td>\n",
       "      <td>92160</td>\n",
       "      <td>0.0</td>\n",
       "      <td>0.0</td>\n",
       "      <td>0.0</td>\n",
       "      <td>0.0</td>\n",
       "      <td>0.0</td>\n",
       "      <td>0.0</td>\n",
       "    </tr>\n",
       "    <tr>\n",
       "      <th>2</th>\n",
       "      <td>12.0</td>\n",
       "      <td>12.0</td>\n",
       "      <td>330.0</td>\n",
       "      <td>10.0</td>\n",
       "      <td>2012</td>\n",
       "      <td>92160</td>\n",
       "      <td>0.0</td>\n",
       "      <td>0.0</td>\n",
       "      <td>0.0</td>\n",
       "      <td>0.0</td>\n",
       "      <td>1.0</td>\n",
       "      <td>0.0</td>\n",
       "    </tr>\n",
       "  </tbody>\n",
       "</table>\n",
       "</div>"
      ],
      "text/plain": [
       "   Diesel  Flex Fuel  Gasoline  Gasoline Hybrid  Year    ZIP  Natural Gas  \\\n",
       "0     7.0        7.0     293.0              8.0  2010  92160          0.0   \n",
       "1     8.0        9.0     305.0              7.0  2011  92160          0.0   \n",
       "2    12.0       12.0     330.0             10.0  2012  92160          0.0   \n",
       "\n",
       "   Bio Diesel  Propane  Electric  PHEV  Hydrogen  \n",
       "0         0.0      0.0       0.0   0.0       0.0  \n",
       "1         0.0      0.0       0.0   0.0       0.0  \n",
       "2         0.0      0.0       0.0   1.0       0.0  "
      ]
     },
     "execution_count": 12,
     "metadata": {},
     "output_type": "execute_result"
    }
   ],
   "source": [
    "dfs = []\n",
    "zip_check = []\n",
    "years_needed_list = []\n",
    "for zip_ in zip_codes:\n",
    "    interpolate_df = final_df.loc[final_df['ZIP'] == zip_]\n",
    "\n",
    "    # gather the years from df\n",
    "    years = set(interpolate_df['Year'])\n",
    "    # set requirement for years\n",
    "    needed_years = set(list(np.arange(2010,2022)))\n",
    "\n",
    "    # get the difference between the two\n",
    "    years_needed = list(needed_years - years)\n",
    "\n",
    "    # --- create rows for years needed ---\n",
    "    # gather the years from df\n",
    "    years = set(interpolate_df['Year'])\n",
    "    # set requirement for years\n",
    "    needed_years = set(list(np.arange(2010,2022)))\n",
    "\n",
    "    # get the difference between the two\n",
    "    years_needed = list(needed_years - years)\n",
    "    \n",
    "    # check if zip code is missing any crucial years (2010-2020)\n",
    "    if pd.Series(years_needed).isin(np.arange(2011,2021))[0]:\n",
    "        zip_check.append(zip_)\n",
    "        years_needed_list.append(sorted(years_needed))\n",
    "    \n",
    "    # create rows for years needed\n",
    "\n",
    "    for year_needed in years_needed:\n",
    "        next_row_dict = {\n",
    "            'Diesel': [np.nan],\n",
    "            'Flex Fuel': [np.nan],\n",
    "            'Gasoline': [np.nan],\n",
    "            'Gasoline Hybrid': [np.nan],\n",
    "            'Year': [year_needed],\n",
    "            'ZIP': [zip_],\n",
    "            'Natural Gas' : [np.nan],\n",
    "            'Bio Diesel': [np.nan],\n",
    "            'Propane': [np.nan],\n",
    "            'Electric': [np.nan],\n",
    "            'PHEV': [np.nan],\n",
    "            'Hydrogen': [np.nan]\n",
    "        }\n",
    "        next_row_df = pd.DataFrame.from_dict(next_row_dict)\n",
    "        interpolate_df = pd.concat([interpolate_df, next_row_df])\n",
    "    \n",
    "    interpolate_df = interpolate_df.reset_index(drop=True)\n",
    "    # interpolate for new added years\n",
    "    interpolate_df = interpolate_df.interpolate(method='linear', axis=0)\n",
    "    dfs.append(interpolate_df)\n",
    "\n",
    "final_df = pd.concat(dfs)\n",
    "final_df.head(3)"
   ]
  },
  {
   "cell_type": "code",
   "execution_count": 13,
   "metadata": {},
   "outputs": [
    {
     "data": {
      "text/plain": [
       "[92187, 91947, 91987, 92090]"
      ]
     },
     "execution_count": 13,
     "metadata": {},
     "output_type": "execute_result"
    }
   ],
   "source": [
    "zip_check"
   ]
  },
  {
   "cell_type": "code",
   "execution_count": 14,
   "metadata": {},
   "outputs": [
    {
     "data": {
      "text/plain": [
       "[[2010, 2015, 2016, 2019, 2021],\n",
       " [2019, 2021],\n",
       " [2011, 2015, 2021],\n",
       " [2012, 2013, 2015, 2016, 2018, 2021]]"
      ]
     },
     "execution_count": 14,
     "metadata": {},
     "output_type": "execute_result"
    }
   ],
   "source": [
    "years_needed_list"
   ]
  },
  {
   "cell_type": "code",
   "execution_count": 15,
   "metadata": {},
   "outputs": [
    {
     "data": {
      "text/html": [
       "<div>\n",
       "<style scoped>\n",
       "    .dataframe tbody tr th:only-of-type {\n",
       "        vertical-align: middle;\n",
       "    }\n",
       "\n",
       "    .dataframe tbody tr th {\n",
       "        vertical-align: top;\n",
       "    }\n",
       "\n",
       "    .dataframe thead th {\n",
       "        text-align: right;\n",
       "    }\n",
       "</style>\n",
       "<table border=\"1\" class=\"dataframe\">\n",
       "  <thead>\n",
       "    <tr style=\"text-align: right;\">\n",
       "      <th></th>\n",
       "      <th>Diesel</th>\n",
       "      <th>Flex Fuel</th>\n",
       "      <th>Gasoline</th>\n",
       "      <th>Gasoline Hybrid</th>\n",
       "      <th>Year</th>\n",
       "      <th>ZIP</th>\n",
       "      <th>Natural Gas</th>\n",
       "      <th>Bio Diesel</th>\n",
       "      <th>Propane</th>\n",
       "      <th>Electric</th>\n",
       "      <th>PHEV</th>\n",
       "      <th>Hydrogen</th>\n",
       "    </tr>\n",
       "  </thead>\n",
       "  <tbody>\n",
       "    <tr>\n",
       "      <th>0</th>\n",
       "      <td>0.0</td>\n",
       "      <td>0.0</td>\n",
       "      <td>6.0</td>\n",
       "      <td>0.0</td>\n",
       "      <td>2010</td>\n",
       "      <td>92090</td>\n",
       "      <td>0.0</td>\n",
       "      <td>0.0</td>\n",
       "      <td>0.0</td>\n",
       "      <td>0.0</td>\n",
       "      <td>0.0</td>\n",
       "      <td>0.0</td>\n",
       "    </tr>\n",
       "    <tr>\n",
       "      <th>1</th>\n",
       "      <td>0.0</td>\n",
       "      <td>0.0</td>\n",
       "      <td>2.0</td>\n",
       "      <td>0.0</td>\n",
       "      <td>2011</td>\n",
       "      <td>92090</td>\n",
       "      <td>0.0</td>\n",
       "      <td>0.0</td>\n",
       "      <td>0.0</td>\n",
       "      <td>0.0</td>\n",
       "      <td>0.0</td>\n",
       "      <td>0.0</td>\n",
       "    </tr>\n",
       "    <tr>\n",
       "      <th>9</th>\n",
       "      <td>0.0</td>\n",
       "      <td>0.0</td>\n",
       "      <td>3.0</td>\n",
       "      <td>0.0</td>\n",
       "      <td>2012</td>\n",
       "      <td>92090</td>\n",
       "      <td>0.0</td>\n",
       "      <td>0.0</td>\n",
       "      <td>0.0</td>\n",
       "      <td>0.0</td>\n",
       "      <td>0.0</td>\n",
       "      <td>0.0</td>\n",
       "    </tr>\n",
       "    <tr>\n",
       "      <th>10</th>\n",
       "      <td>0.0</td>\n",
       "      <td>0.0</td>\n",
       "      <td>3.0</td>\n",
       "      <td>0.0</td>\n",
       "      <td>2013</td>\n",
       "      <td>92090</td>\n",
       "      <td>0.0</td>\n",
       "      <td>0.0</td>\n",
       "      <td>0.0</td>\n",
       "      <td>0.0</td>\n",
       "      <td>0.0</td>\n",
       "      <td>0.0</td>\n",
       "    </tr>\n",
       "    <tr>\n",
       "      <th>2</th>\n",
       "      <td>0.0</td>\n",
       "      <td>0.0</td>\n",
       "      <td>2.0</td>\n",
       "      <td>0.0</td>\n",
       "      <td>2014</td>\n",
       "      <td>92090</td>\n",
       "      <td>0.0</td>\n",
       "      <td>0.0</td>\n",
       "      <td>0.0</td>\n",
       "      <td>0.0</td>\n",
       "      <td>0.0</td>\n",
       "      <td>0.0</td>\n",
       "    </tr>\n",
       "    <tr>\n",
       "      <th>11</th>\n",
       "      <td>0.0</td>\n",
       "      <td>0.0</td>\n",
       "      <td>3.0</td>\n",
       "      <td>0.0</td>\n",
       "      <td>2015</td>\n",
       "      <td>92090</td>\n",
       "      <td>0.0</td>\n",
       "      <td>0.0</td>\n",
       "      <td>0.0</td>\n",
       "      <td>0.0</td>\n",
       "      <td>0.0</td>\n",
       "      <td>0.0</td>\n",
       "    </tr>\n",
       "    <tr>\n",
       "      <th>6</th>\n",
       "      <td>0.0</td>\n",
       "      <td>0.0</td>\n",
       "      <td>3.0</td>\n",
       "      <td>0.0</td>\n",
       "      <td>2016</td>\n",
       "      <td>92090</td>\n",
       "      <td>0.0</td>\n",
       "      <td>0.0</td>\n",
       "      <td>0.0</td>\n",
       "      <td>0.0</td>\n",
       "      <td>0.0</td>\n",
       "      <td>0.0</td>\n",
       "    </tr>\n",
       "    <tr>\n",
       "      <th>3</th>\n",
       "      <td>0.0</td>\n",
       "      <td>1.0</td>\n",
       "      <td>1.0</td>\n",
       "      <td>0.0</td>\n",
       "      <td>2017</td>\n",
       "      <td>92090</td>\n",
       "      <td>0.0</td>\n",
       "      <td>0.0</td>\n",
       "      <td>0.0</td>\n",
       "      <td>0.0</td>\n",
       "      <td>0.0</td>\n",
       "      <td>0.0</td>\n",
       "    </tr>\n",
       "    <tr>\n",
       "      <th>7</th>\n",
       "      <td>0.0</td>\n",
       "      <td>0.0</td>\n",
       "      <td>3.0</td>\n",
       "      <td>0.0</td>\n",
       "      <td>2018</td>\n",
       "      <td>92090</td>\n",
       "      <td>0.0</td>\n",
       "      <td>0.0</td>\n",
       "      <td>0.0</td>\n",
       "      <td>0.0</td>\n",
       "      <td>0.0</td>\n",
       "      <td>0.0</td>\n",
       "    </tr>\n",
       "    <tr>\n",
       "      <th>4</th>\n",
       "      <td>0.0</td>\n",
       "      <td>0.0</td>\n",
       "      <td>1.0</td>\n",
       "      <td>0.0</td>\n",
       "      <td>2019</td>\n",
       "      <td>92090</td>\n",
       "      <td>0.0</td>\n",
       "      <td>0.0</td>\n",
       "      <td>0.0</td>\n",
       "      <td>0.0</td>\n",
       "      <td>0.0</td>\n",
       "      <td>0.0</td>\n",
       "    </tr>\n",
       "    <tr>\n",
       "      <th>5</th>\n",
       "      <td>0.0</td>\n",
       "      <td>0.0</td>\n",
       "      <td>3.0</td>\n",
       "      <td>0.0</td>\n",
       "      <td>2020</td>\n",
       "      <td>92090</td>\n",
       "      <td>0.0</td>\n",
       "      <td>0.0</td>\n",
       "      <td>0.0</td>\n",
       "      <td>0.0</td>\n",
       "      <td>0.0</td>\n",
       "      <td>0.0</td>\n",
       "    </tr>\n",
       "    <tr>\n",
       "      <th>8</th>\n",
       "      <td>0.0</td>\n",
       "      <td>0.0</td>\n",
       "      <td>3.0</td>\n",
       "      <td>0.0</td>\n",
       "      <td>2021</td>\n",
       "      <td>92090</td>\n",
       "      <td>0.0</td>\n",
       "      <td>0.0</td>\n",
       "      <td>0.0</td>\n",
       "      <td>0.0</td>\n",
       "      <td>0.0</td>\n",
       "      <td>0.0</td>\n",
       "    </tr>\n",
       "  </tbody>\n",
       "</table>\n",
       "</div>"
      ],
      "text/plain": [
       "    Diesel  Flex Fuel  Gasoline  Gasoline Hybrid  Year    ZIP  Natural Gas  \\\n",
       "0      0.0        0.0       6.0              0.0  2010  92090          0.0   \n",
       "1      0.0        0.0       2.0              0.0  2011  92090          0.0   \n",
       "9      0.0        0.0       3.0              0.0  2012  92090          0.0   \n",
       "10     0.0        0.0       3.0              0.0  2013  92090          0.0   \n",
       "2      0.0        0.0       2.0              0.0  2014  92090          0.0   \n",
       "11     0.0        0.0       3.0              0.0  2015  92090          0.0   \n",
       "6      0.0        0.0       3.0              0.0  2016  92090          0.0   \n",
       "3      0.0        1.0       1.0              0.0  2017  92090          0.0   \n",
       "7      0.0        0.0       3.0              0.0  2018  92090          0.0   \n",
       "4      0.0        0.0       1.0              0.0  2019  92090          0.0   \n",
       "5      0.0        0.0       3.0              0.0  2020  92090          0.0   \n",
       "8      0.0        0.0       3.0              0.0  2021  92090          0.0   \n",
       "\n",
       "    Bio Diesel  Propane  Electric  PHEV  Hydrogen  \n",
       "0          0.0      0.0       0.0   0.0       0.0  \n",
       "1          0.0      0.0       0.0   0.0       0.0  \n",
       "9          0.0      0.0       0.0   0.0       0.0  \n",
       "10         0.0      0.0       0.0   0.0       0.0  \n",
       "2          0.0      0.0       0.0   0.0       0.0  \n",
       "11         0.0      0.0       0.0   0.0       0.0  \n",
       "6          0.0      0.0       0.0   0.0       0.0  \n",
       "3          0.0      0.0       0.0   0.0       0.0  \n",
       "7          0.0      0.0       0.0   0.0       0.0  \n",
       "4          0.0      0.0       0.0   0.0       0.0  \n",
       "5          0.0      0.0       0.0   0.0       0.0  \n",
       "8          0.0      0.0       0.0   0.0       0.0  "
      ]
     },
     "execution_count": 15,
     "metadata": {},
     "output_type": "execute_result"
    }
   ],
   "source": [
    "final_df.loc[final_df['ZIP'] == 92090].sort_values('Year')"
   ]
  },
  {
   "cell_type": "code",
   "execution_count": 16,
   "metadata": {},
   "outputs": [
    {
     "data": {
      "text/html": [
       "<div>\n",
       "<style scoped>\n",
       "    .dataframe tbody tr th:only-of-type {\n",
       "        vertical-align: middle;\n",
       "    }\n",
       "\n",
       "    .dataframe tbody tr th {\n",
       "        vertical-align: top;\n",
       "    }\n",
       "\n",
       "    .dataframe thead th {\n",
       "        text-align: right;\n",
       "    }\n",
       "</style>\n",
       "<table border=\"1\" class=\"dataframe\">\n",
       "  <thead>\n",
       "    <tr style=\"text-align: right;\">\n",
       "      <th></th>\n",
       "      <th>Diesel</th>\n",
       "      <th>Flex Fuel</th>\n",
       "      <th>Gasoline</th>\n",
       "      <th>Gasoline Hybrid</th>\n",
       "      <th>Year</th>\n",
       "      <th>ZIP</th>\n",
       "      <th>Natural Gas</th>\n",
       "      <th>Bio Diesel</th>\n",
       "      <th>Propane</th>\n",
       "      <th>Electric</th>\n",
       "      <th>PHEV</th>\n",
       "      <th>Hydrogen</th>\n",
       "    </tr>\n",
       "  </thead>\n",
       "  <tbody>\n",
       "    <tr>\n",
       "      <th>0</th>\n",
       "      <td>7.0</td>\n",
       "      <td>7.0</td>\n",
       "      <td>293.0</td>\n",
       "      <td>8.0</td>\n",
       "      <td>2010</td>\n",
       "      <td>92160</td>\n",
       "      <td>0.0</td>\n",
       "      <td>0.0</td>\n",
       "      <td>0.0</td>\n",
       "      <td>0.0</td>\n",
       "      <td>0.0</td>\n",
       "      <td>0.0</td>\n",
       "    </tr>\n",
       "    <tr>\n",
       "      <th>1</th>\n",
       "      <td>8.0</td>\n",
       "      <td>9.0</td>\n",
       "      <td>305.0</td>\n",
       "      <td>7.0</td>\n",
       "      <td>2011</td>\n",
       "      <td>92160</td>\n",
       "      <td>0.0</td>\n",
       "      <td>0.0</td>\n",
       "      <td>0.0</td>\n",
       "      <td>0.0</td>\n",
       "      <td>0.0</td>\n",
       "      <td>0.0</td>\n",
       "    </tr>\n",
       "    <tr>\n",
       "      <th>2</th>\n",
       "      <td>12.0</td>\n",
       "      <td>12.0</td>\n",
       "      <td>330.0</td>\n",
       "      <td>10.0</td>\n",
       "      <td>2012</td>\n",
       "      <td>92160</td>\n",
       "      <td>0.0</td>\n",
       "      <td>0.0</td>\n",
       "      <td>0.0</td>\n",
       "      <td>0.0</td>\n",
       "      <td>1.0</td>\n",
       "      <td>0.0</td>\n",
       "    </tr>\n",
       "  </tbody>\n",
       "</table>\n",
       "</div>"
      ],
      "text/plain": [
       "   Diesel  Flex Fuel  Gasoline  Gasoline Hybrid  Year    ZIP  Natural Gas  \\\n",
       "0     7.0        7.0     293.0              8.0  2010  92160          0.0   \n",
       "1     8.0        9.0     305.0              7.0  2011  92160          0.0   \n",
       "2    12.0       12.0     330.0             10.0  2012  92160          0.0   \n",
       "\n",
       "   Bio Diesel  Propane  Electric  PHEV  Hydrogen  \n",
       "0         0.0      0.0       0.0   0.0       0.0  \n",
       "1         0.0      0.0       0.0   0.0       0.0  \n",
       "2         0.0      0.0       0.0   1.0       0.0  "
      ]
     },
     "execution_count": 16,
     "metadata": {},
     "output_type": "execute_result"
    }
   ],
   "source": [
    "final_df = final_df.reset_index(drop=True)\n",
    "final_df.head(3)"
   ]
  },
  {
   "cell_type": "code",
   "execution_count": 26,
   "metadata": {},
   "outputs": [
    {
     "data": {
      "text/html": [
       "<div>\n",
       "<style scoped>\n",
       "    .dataframe tbody tr th:only-of-type {\n",
       "        vertical-align: middle;\n",
       "    }\n",
       "\n",
       "    .dataframe tbody tr th {\n",
       "        vertical-align: top;\n",
       "    }\n",
       "\n",
       "    .dataframe thead th {\n",
       "        text-align: right;\n",
       "    }\n",
       "</style>\n",
       "<table border=\"1\" class=\"dataframe\">\n",
       "  <thead>\n",
       "    <tr style=\"text-align: right;\">\n",
       "      <th></th>\n",
       "      <th>Diesel</th>\n",
       "      <th>Flex Fuel</th>\n",
       "      <th>Gasoline</th>\n",
       "      <th>Gasoline Hybrid</th>\n",
       "      <th>Year</th>\n",
       "      <th>ZIP</th>\n",
       "      <th>Natural Gas</th>\n",
       "      <th>Bio Diesel</th>\n",
       "      <th>Propane</th>\n",
       "      <th>Electric</th>\n",
       "      <th>PHEV</th>\n",
       "      <th>Hydrogen</th>\n",
       "      <th>total_cars</th>\n",
       "    </tr>\n",
       "  </thead>\n",
       "  <tbody>\n",
       "    <tr>\n",
       "      <th>0</th>\n",
       "      <td>7.0</td>\n",
       "      <td>7.0</td>\n",
       "      <td>293.0</td>\n",
       "      <td>8.0</td>\n",
       "      <td>2010</td>\n",
       "      <td>92160</td>\n",
       "      <td>0.0</td>\n",
       "      <td>0.0</td>\n",
       "      <td>0.0</td>\n",
       "      <td>0.0</td>\n",
       "      <td>0.0</td>\n",
       "      <td>0.0</td>\n",
       "      <td>315.0</td>\n",
       "    </tr>\n",
       "    <tr>\n",
       "      <th>1</th>\n",
       "      <td>8.0</td>\n",
       "      <td>9.0</td>\n",
       "      <td>305.0</td>\n",
       "      <td>7.0</td>\n",
       "      <td>2011</td>\n",
       "      <td>92160</td>\n",
       "      <td>0.0</td>\n",
       "      <td>0.0</td>\n",
       "      <td>0.0</td>\n",
       "      <td>0.0</td>\n",
       "      <td>0.0</td>\n",
       "      <td>0.0</td>\n",
       "      <td>329.0</td>\n",
       "    </tr>\n",
       "    <tr>\n",
       "      <th>2</th>\n",
       "      <td>12.0</td>\n",
       "      <td>12.0</td>\n",
       "      <td>330.0</td>\n",
       "      <td>10.0</td>\n",
       "      <td>2012</td>\n",
       "      <td>92160</td>\n",
       "      <td>0.0</td>\n",
       "      <td>0.0</td>\n",
       "      <td>0.0</td>\n",
       "      <td>0.0</td>\n",
       "      <td>1.0</td>\n",
       "      <td>0.0</td>\n",
       "      <td>365.0</td>\n",
       "    </tr>\n",
       "  </tbody>\n",
       "</table>\n",
       "</div>"
      ],
      "text/plain": [
       "   Diesel  Flex Fuel  Gasoline  Gasoline Hybrid  Year    ZIP  Natural Gas  \\\n",
       "0     7.0        7.0     293.0              8.0  2010  92160          0.0   \n",
       "1     8.0        9.0     305.0              7.0  2011  92160          0.0   \n",
       "2    12.0       12.0     330.0             10.0  2012  92160          0.0   \n",
       "\n",
       "   Bio Diesel  Propane  Electric  PHEV  Hydrogen  total_cars  \n",
       "0         0.0      0.0       0.0   0.0       0.0       315.0  \n",
       "1         0.0      0.0       0.0   0.0       0.0       329.0  \n",
       "2         0.0      0.0       0.0   1.0       0.0       365.0  "
      ]
     },
     "execution_count": 26,
     "metadata": {},
     "output_type": "execute_result"
    }
   ],
   "source": [
    "vehicle_columns = ['Bio Diesel',\n",
    "                   'Diesel',\n",
    "                   'Electric',\n",
    "                   'Flex Fuel',\n",
    "                   'Gasoline',\n",
    "                   'Gasoline Hybrid',\n",
    "                   'Hydrogen',\n",
    "                   'Natural Gas',\n",
    "                   'PHEV',\n",
    "                   'Propane']\n",
    "\n",
    "final_df['total_cars'] = final_df.loc[:,vehicle_columns].sum(axis=1)\n",
    "final_df.head(3)"
   ]
  },
  {
   "cell_type": "markdown",
   "metadata": {},
   "source": [
    "# Write DF to CSV & Parquet"
   ]
  },
  {
   "cell_type": "code",
   "execution_count": null,
   "metadata": {
    "id": "NU04cef1rbHN"
   },
   "outputs": [],
   "source": [
    "clean_data_dir = root + clean\n",
    "\n",
    "final_df.to_parquet(clean_data_dir + 'vehicle_registration.parquet.gzip',\n",
    "                                   compression='gzip',\n",
    "                                   index=False)"
   ]
  },
  {
   "cell_type": "code",
   "execution_count": 27,
   "metadata": {},
   "outputs": [],
   "source": [
    "\n",
    "clean_data_dir = root + clean\n",
    "\n",
    "final_df.to_csv(clean_data_dir +'vehicle_registration.csv', index=False)"
   ]
  },
  {
   "cell_type": "markdown",
   "metadata": {},
   "source": [
    "## Upload Files to S3"
   ]
  },
  {
   "cell_type": "code",
   "execution_count": 29,
   "metadata": {},
   "outputs": [],
   "source": [
    "import boto3\n",
    "import sagemaker\n",
    "\n",
    "# Sagemaker session\n",
    "sess = sagemaker.Session()\n",
    "\n",
    "# bucket = \"my-bucket\"\n",
    "bucket = sess.default_bucket()\n",
    "\n",
    "file_name = 'vehicle_registration.csv'\n",
    "file_path = 'Clean_Data/' + file_name\n",
    "\n",
    "# Upload flow to S3\n",
    "s3_client = boto3.client(\"s3\")\n",
    "s3_client.upload_file(clean_data_dir + file_name, bucket, file_path)"
   ]
  },
  {
   "cell_type": "code",
   "execution_count": null,
   "metadata": {
    "id": "JIhuSbJJJNEn"
   },
   "outputs": [],
   "source": [
    "import boto3\n",
    "import sagemaker\n",
    "\n",
    "# Sagemaker session\n",
    "sess = sagemaker.Session()\n",
    "\n",
    "# bucket = \"my-bucket\"\n",
    "bucket = sess.default_bucket()\n",
    "\n",
    "file_name = 'vehicle_registration.parquet.gzip'\n",
    "file_path = 'Clean_Data/' + file_name\n",
    "\n",
    "# Upload flow to S3\n",
    "s3_client = boto3.client(\"s3\")\n",
    "s3_client.upload_file(clean_data_dir + file_name, bucket, file_path)"
   ]
  },
  {
   "cell_type": "code",
   "execution_count": null,
   "metadata": {},
   "outputs": [],
   "source": [
    "print('Vehicle Data is READY TO ROCK!!!!')"
   ]
  }
 ],
 "metadata": {
  "colab": {
   "collapsed_sections": [],
   "name": "Vehicle_DataPrep.ipynb",
   "provenance": []
  },
  "instance_type": "ml.t3.medium",
  "kernelspec": {
   "display_name": "Python 3 (Data Science)",
   "language": "python",
   "name": "python3__SAGEMAKER_INTERNAL__arn:aws:sagemaker:us-east-1:081325390199:image/datascience-1.0"
  },
  "language_info": {
   "codemirror_mode": {
    "name": "ipython",
    "version": 3
   },
   "file_extension": ".py",
   "mimetype": "text/x-python",
   "name": "python",
   "nbconvert_exporter": "python",
   "pygments_lexer": "ipython3",
   "version": "3.7.10"
  }
 },
 "nbformat": 4,
 "nbformat_minor": 4
}
