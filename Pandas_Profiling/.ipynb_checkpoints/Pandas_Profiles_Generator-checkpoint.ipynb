{
 "cells": [
  {
   "cell_type": "code",
   "execution_count": 5,
   "id": "4d5fb3e2-e849-43b9-a47c-d08fd72c6f43",
   "metadata": {},
   "outputs": [],
   "source": [
    "# !pip install pandas-profiling==2.6"
   ]
  },
  {
   "cell_type": "code",
   "execution_count": 7,
   "id": "74744255-67ab-49ac-b9d6-fe5edcc50931",
   "metadata": {},
   "outputs": [],
   "source": [
    "import os\n",
    "import pandas as pd\n",
    "from pandas_profiling import ProfileReport"
   ]
  },
  {
   "cell_type": "code",
   "execution_count": 17,
   "id": "9f16fff3-81f6-4162-8563-2eabea091b89",
   "metadata": {},
   "outputs": [
    {
     "data": {
      "text/plain": [
       "['census_pop.parquet.gzip',\n",
       " 'gas.parquet.gzip',\n",
       " 'electric.parquet.gzip',\n",
       " 'vehicle_registration.parquet.gzip']"
      ]
     },
     "execution_count": 17,
     "metadata": {},
     "output_type": "execute_result"
    }
   ],
   "source": [
    "# set up directory\n",
    "os.chdir('/Volumes/GoogleDrive/My Drive/508/Project_508/Data/')\n",
    "data_sets = os.listdir()\n",
    "data_sets"
   ]
  },
  {
   "cell_type": "code",
   "execution_count": 19,
   "id": "ef8d156f-7eb7-4c6c-bf5f-2366741510eb",
   "metadata": {},
   "outputs": [
    {
     "name": "stdout",
     "output_type": "stream",
     "text": [
      "Building census_pop report.\n"
     ]
    },
    {
     "data": {
      "application/vnd.jupyter.widget-view+json": {
       "model_id": "e4f9d27bd3dc4ba78483b88583da401a",
       "version_major": 2,
       "version_minor": 0
      },
      "text/plain": [
       "variables:   0%|          | 0/3 [00:00<?, ?it/s]"
      ]
     },
     "metadata": {},
     "output_type": "display_data"
    },
    {
     "data": {
      "application/vnd.jupyter.widget-view+json": {
       "model_id": "bd58b6ac6baf478bbd79c2c399b0f30d",
       "version_major": 2,
       "version_minor": 0
      },
      "text/plain": [
       "correlations:   0%|          | 0/6 [00:00<?, ?it/s]"
      ]
     },
     "metadata": {},
     "output_type": "display_data"
    },
    {
     "data": {
      "application/vnd.jupyter.widget-view+json": {
       "model_id": "16e67a9674ea4973be6cfd08b73a9625",
       "version_major": 2,
       "version_minor": 0
      },
      "text/plain": [
       "interactions [continuous]:   0%|          | 0/9 [00:00<?, ?it/s]"
      ]
     },
     "metadata": {},
     "output_type": "display_data"
    },
    {
     "data": {
      "application/vnd.jupyter.widget-view+json": {
       "model_id": "16039f2f8abe41288a16d3927140ade4",
       "version_major": 2,
       "version_minor": 0
      },
      "text/plain": [
       "table:   0%|          | 0/1 [00:00<?, ?it/s]"
      ]
     },
     "metadata": {},
     "output_type": "display_data"
    },
    {
     "data": {
      "application/vnd.jupyter.widget-view+json": {
       "model_id": "c150559308974bd49d5cda53bfa4daf5",
       "version_major": 2,
       "version_minor": 0
      },
      "text/plain": [
       "missing:   0%|          | 0/2 [00:00<?, ?it/s]"
      ]
     },
     "metadata": {},
     "output_type": "display_data"
    },
    {
     "data": {
      "application/vnd.jupyter.widget-view+json": {
       "model_id": "3653d4585d474343a684728b33fdaf4b",
       "version_major": 2,
       "version_minor": 0
      },
      "text/plain": [
       "warnings:   0%|          | 0/3 [00:00<?, ?it/s]"
      ]
     },
     "metadata": {},
     "output_type": "display_data"
    },
    {
     "data": {
      "application/vnd.jupyter.widget-view+json": {
       "model_id": "3254c0e7cb4c443c972170c8134b8ab9",
       "version_major": 2,
       "version_minor": 0
      },
      "text/plain": [
       "package:   0%|          | 0/1 [00:00<?, ?it/s]"
      ]
     },
     "metadata": {},
     "output_type": "display_data"
    },
    {
     "data": {
      "application/vnd.jupyter.widget-view+json": {
       "model_id": "557173cde61a40d5bf8b54b62a697898",
       "version_major": 2,
       "version_minor": 0
      },
      "text/plain": [
       "build report structure:   0%|          | 0/1 [00:00<?, ?it/s]"
      ]
     },
     "metadata": {},
     "output_type": "display_data"
    },
    {
     "name": "stdout",
     "output_type": "stream",
     "text": [
      "------------------------------------------------------------\n",
      "Building gas report.\n"
     ]
    },
    {
     "data": {
      "application/vnd.jupyter.widget-view+json": {
       "model_id": "644ef374bca0464bbe06a41212f60f8c",
       "version_major": 2,
       "version_minor": 0
      },
      "text/plain": [
       "variables:   0%|          | 0/9 [00:00<?, ?it/s]"
      ]
     },
     "metadata": {},
     "output_type": "display_data"
    },
    {
     "data": {
      "application/vnd.jupyter.widget-view+json": {
       "model_id": "52307feb9fb544be89e8c65744985207",
       "version_major": 2,
       "version_minor": 0
      },
      "text/plain": [
       "correlations:   0%|          | 0/6 [00:00<?, ?it/s]"
      ]
     },
     "metadata": {},
     "output_type": "display_data"
    },
    {
     "data": {
      "application/vnd.jupyter.widget-view+json": {
       "model_id": "c60a16f2e9af4f40a28c631469dd7cbc",
       "version_major": 2,
       "version_minor": 0
      },
      "text/plain": [
       "interactions [continuous]:   0%|          | 0/49 [00:00<?, ?it/s]"
      ]
     },
     "metadata": {},
     "output_type": "display_data"
    },
    {
     "data": {
      "application/vnd.jupyter.widget-view+json": {
       "model_id": "c142aac20f4748e1a14334943763a9ac",
       "version_major": 2,
       "version_minor": 0
      },
      "text/plain": [
       "table:   0%|          | 0/1 [00:00<?, ?it/s]"
      ]
     },
     "metadata": {},
     "output_type": "display_data"
    },
    {
     "data": {
      "application/vnd.jupyter.widget-view+json": {
       "model_id": "2973e2c13c9447cbbea23550212bbbc2",
       "version_major": 2,
       "version_minor": 0
      },
      "text/plain": [
       "missing:   0%|          | 0/2 [00:00<?, ?it/s]"
      ]
     },
     "metadata": {},
     "output_type": "display_data"
    },
    {
     "data": {
      "application/vnd.jupyter.widget-view+json": {
       "model_id": "add97f7c61fa48b1ac7a455607cabaf5",
       "version_major": 2,
       "version_minor": 0
      },
      "text/plain": [
       "warnings:   0%|          | 0/3 [00:00<?, ?it/s]"
      ]
     },
     "metadata": {},
     "output_type": "display_data"
    },
    {
     "data": {
      "application/vnd.jupyter.widget-view+json": {
       "model_id": "b37adaf29df2467abcdde195ad31fb31",
       "version_major": 2,
       "version_minor": 0
      },
      "text/plain": [
       "package:   0%|          | 0/1 [00:00<?, ?it/s]"
      ]
     },
     "metadata": {},
     "output_type": "display_data"
    },
    {
     "data": {
      "application/vnd.jupyter.widget-view+json": {
       "model_id": "13984407e4c54f188f8793508c296eea",
       "version_major": 2,
       "version_minor": 0
      },
      "text/plain": [
       "build report structure:   0%|          | 0/1 [00:00<?, ?it/s]"
      ]
     },
     "metadata": {},
     "output_type": "display_data"
    },
    {
     "name": "stdout",
     "output_type": "stream",
     "text": [
      "------------------------------------------------------------\n",
      "Building electric report.\n"
     ]
    },
    {
     "data": {
      "application/vnd.jupyter.widget-view+json": {
       "model_id": "a21dd7a8d6c641b5bd628c12f7655dff",
       "version_major": 2,
       "version_minor": 0
      },
      "text/plain": [
       "variables:   0%|          | 0/9 [00:00<?, ?it/s]"
      ]
     },
     "metadata": {},
     "output_type": "display_data"
    },
    {
     "data": {
      "application/vnd.jupyter.widget-view+json": {
       "model_id": "4051cf88de9c4beb9c09b740409f8f05",
       "version_major": 2,
       "version_minor": 0
      },
      "text/plain": [
       "correlations:   0%|          | 0/6 [00:00<?, ?it/s]"
      ]
     },
     "metadata": {},
     "output_type": "display_data"
    },
    {
     "data": {
      "application/vnd.jupyter.widget-view+json": {
       "model_id": "ee4c1ccd939645c4834b5579b56103a3",
       "version_major": 2,
       "version_minor": 0
      },
      "text/plain": [
       "interactions [continuous]:   0%|          | 0/49 [00:00<?, ?it/s]"
      ]
     },
     "metadata": {},
     "output_type": "display_data"
    },
    {
     "data": {
      "application/vnd.jupyter.widget-view+json": {
       "model_id": "e7b6ae03add44a88bc02126f966f969d",
       "version_major": 2,
       "version_minor": 0
      },
      "text/plain": [
       "table:   0%|          | 0/1 [00:00<?, ?it/s]"
      ]
     },
     "metadata": {},
     "output_type": "display_data"
    },
    {
     "data": {
      "application/vnd.jupyter.widget-view+json": {
       "model_id": "8f659376742145e1832c4bd5e903f414",
       "version_major": 2,
       "version_minor": 0
      },
      "text/plain": [
       "missing:   0%|          | 0/2 [00:00<?, ?it/s]"
      ]
     },
     "metadata": {},
     "output_type": "display_data"
    },
    {
     "data": {
      "application/vnd.jupyter.widget-view+json": {
       "model_id": "7157d3b5a7f747368d80e6da1d0e3dd8",
       "version_major": 2,
       "version_minor": 0
      },
      "text/plain": [
       "warnings:   0%|          | 0/3 [00:00<?, ?it/s]"
      ]
     },
     "metadata": {},
     "output_type": "display_data"
    },
    {
     "data": {
      "application/vnd.jupyter.widget-view+json": {
       "model_id": "25fcd366b2194498b63f402699386b7f",
       "version_major": 2,
       "version_minor": 0
      },
      "text/plain": [
       "package:   0%|          | 0/1 [00:00<?, ?it/s]"
      ]
     },
     "metadata": {},
     "output_type": "display_data"
    },
    {
     "data": {
      "application/vnd.jupyter.widget-view+json": {
       "model_id": "a816ca5d24674dfd8ea63ce70d2ccdfa",
       "version_major": 2,
       "version_minor": 0
      },
      "text/plain": [
       "build report structure:   0%|          | 0/1 [00:00<?, ?it/s]"
      ]
     },
     "metadata": {},
     "output_type": "display_data"
    },
    {
     "name": "stdout",
     "output_type": "stream",
     "text": [
      "------------------------------------------------------------\n",
      "Building vehicle_registration report.\n"
     ]
    },
    {
     "data": {
      "application/vnd.jupyter.widget-view+json": {
       "model_id": "51f73fdd5a5e43fdbde5dfe641a9ca24",
       "version_major": 2,
       "version_minor": 0
      },
      "text/plain": [
       "variables:   0%|          | 0/5 [00:00<?, ?it/s]"
      ]
     },
     "metadata": {},
     "output_type": "display_data"
    },
    {
     "data": {
      "application/vnd.jupyter.widget-view+json": {
       "model_id": "c1f99897da824e29b7ca976d813b3815",
       "version_major": 2,
       "version_minor": 0
      },
      "text/plain": [
       "correlations:   0%|          | 0/6 [00:00<?, ?it/s]"
      ]
     },
     "metadata": {},
     "output_type": "display_data"
    },
    {
     "data": {
      "application/vnd.jupyter.widget-view+json": {
       "model_id": "631d2009c7604379ac0e6cc4ed6b8810",
       "version_major": 2,
       "version_minor": 0
      },
      "text/plain": [
       "interactions [continuous]:   0%|          | 0/16 [00:00<?, ?it/s]"
      ]
     },
     "metadata": {},
     "output_type": "display_data"
    },
    {
     "data": {
      "application/vnd.jupyter.widget-view+json": {
       "model_id": "8fe8f4dc91a64e9a8efceb2717bf8cc3",
       "version_major": 2,
       "version_minor": 0
      },
      "text/plain": [
       "table:   0%|          | 0/1 [00:00<?, ?it/s]"
      ]
     },
     "metadata": {},
     "output_type": "display_data"
    },
    {
     "data": {
      "application/vnd.jupyter.widget-view+json": {
       "model_id": "1c290601d4b24ea694b63565d8f857fe",
       "version_major": 2,
       "version_minor": 0
      },
      "text/plain": [
       "missing:   0%|          | 0/2 [00:00<?, ?it/s]"
      ]
     },
     "metadata": {},
     "output_type": "display_data"
    },
    {
     "data": {
      "application/vnd.jupyter.widget-view+json": {
       "model_id": "1a5493928b244e94bd5ddf807231ea5b",
       "version_major": 2,
       "version_minor": 0
      },
      "text/plain": [
       "warnings:   0%|          | 0/3 [00:00<?, ?it/s]"
      ]
     },
     "metadata": {},
     "output_type": "display_data"
    },
    {
     "data": {
      "application/vnd.jupyter.widget-view+json": {
       "model_id": "8b94c7366cad4b7fb8f9ead5a0f3afe3",
       "version_major": 2,
       "version_minor": 0
      },
      "text/plain": [
       "package:   0%|          | 0/1 [00:00<?, ?it/s]"
      ]
     },
     "metadata": {},
     "output_type": "display_data"
    },
    {
     "data": {
      "application/vnd.jupyter.widget-view+json": {
       "model_id": "d000f36d07cd43cea490ebd0a4c2624e",
       "version_major": 2,
       "version_minor": 0
      },
      "text/plain": [
       "build report structure:   0%|          | 0/1 [00:00<?, ?it/s]"
      ]
     },
     "metadata": {},
     "output_type": "display_data"
    },
    {
     "name": "stdout",
     "output_type": "stream",
     "text": [
      "------------------------------------------------------------\n"
     ]
    }
   ],
   "source": [
    "for data_set in data_sets:\n",
    "    df = pd.read_parquet(data_set)\n",
    "\n",
    "    # get data name\n",
    "    data_name = data_set.split('.')[0]\n",
    "    \n",
    "    # compile Pandas Profile report\n",
    "    print(f'Building {data_name} report.')\n",
    "    ProfileReport(df).to_file(f\"{data_name}_report.html\")\n",
    "    \n",
    "    print('--'*30,)\n",
    "print('!!'*10, '----', 'Profiling Complete','-----','!!'*10)"
   ]
  },
  {
   "cell_type": "code",
   "execution_count": null,
   "id": "2bf02063-bba0-4b96-8747-3d5ba239a97a",
   "metadata": {},
   "outputs": [],
   "source": []
  }
 ],
 "metadata": {
  "kernelspec": {
   "display_name": "Python 3",
   "language": "python",
   "name": "python3"
  },
  "language_info": {
   "codemirror_mode": {
    "name": "ipython",
    "version": 3
   },
   "file_extension": ".py",
   "mimetype": "text/x-python",
   "name": "python",
   "nbconvert_exporter": "python",
   "pygments_lexer": "ipython3",
   "version": "3.8.8"
  }
 },
 "nbformat": 4,
 "nbformat_minor": 5
}
